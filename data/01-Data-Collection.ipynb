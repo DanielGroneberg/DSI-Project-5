{
 "cells": [
  {
   "cell_type": "markdown",
   "id": "17abadba",
   "metadata": {},
   "source": [
    "https://github.com/7astro7/full_fred"
   ]
  },
  {
   "cell_type": "code",
   "execution_count": 1,
   "id": "4466a1de",
   "metadata": {},
   "outputs": [],
   "source": [
    "import numpy as np\n",
    "import pandas as pd\n",
    "import matplotlib.pyplot as plt\n",
    "import seaborn as sns\n",
    "\n",
    "from full_fred.fred import Fred\n",
    "import datetime as dt\n",
    "import requests\n",
    "from bs4 import BeautifulSoup\n",
    "import re"
   ]
  },
  {
   "cell_type": "markdown",
   "id": "bc4868c3",
   "metadata": {},
   "source": [
    "________________\n",
    "FRED Econ Data\n",
    "\n",
    "**Issues to be resolved:**\n",
    "* I need to find which types of series data are available (which economic metrics) other than potential GDP and GNPCA\n",
    "* I need to clean the data (some years are missing)"
   ]
  },
  {
   "cell_type": "code",
   "execution_count": 2,
   "id": "8be41079",
   "metadata": {},
   "outputs": [
    {
     "data": {
      "text/plain": [
       "'../data/api_key'"
      ]
     },
     "execution_count": 2,
     "metadata": {},
     "output_type": "execute_result"
    }
   ],
   "source": [
    "fred = Fred('../data/api_key')\n",
    "fred.get_api_key_file()"
   ]
  },
  {
   "cell_type": "code",
   "execution_count": 4,
   "id": "00d42670",
   "metadata": {},
   "outputs": [
    {
     "data": {
      "text/plain": [
       "{'categories': [{'id': 32991,\n",
       "   'name': 'Money, Banking, & Finance',\n",
       "   'parent_id': 0},\n",
       "  {'id': 10,\n",
       "   'name': 'Population, Employment, & Labor Markets',\n",
       "   'parent_id': 0},\n",
       "  {'id': 32992, 'name': 'National Accounts', 'parent_id': 0},\n",
       "  {'id': 1, 'name': 'Production & Business Activity', 'parent_id': 0},\n",
       "  {'id': 32455, 'name': 'Prices', 'parent_id': 0},\n",
       "  {'id': 32263, 'name': 'International Data', 'parent_id': 0},\n",
       "  {'id': 3008, 'name': 'U.S. Regional Data', 'parent_id': 0},\n",
       "  {'id': 33060, 'name': 'Academic Data', 'parent_id': 0}]}"
      ]
     },
     "execution_count": 4,
     "metadata": {},
     "output_type": "execute_result"
    }
   ],
   "source": [
    "fred.get_child_categories(0)"
   ]
  },
  {
   "cell_type": "code",
   "execution_count": 5,
   "id": "41a8ae45",
   "metadata": {},
   "outputs": [
    {
     "data": {
      "text/html": [
       "<div>\n",
       "<style scoped>\n",
       "    .dataframe tbody tr th:only-of-type {\n",
       "        vertical-align: middle;\n",
       "    }\n",
       "\n",
       "    .dataframe tbody tr th {\n",
       "        vertical-align: top;\n",
       "    }\n",
       "\n",
       "    .dataframe thead th {\n",
       "        text-align: right;\n",
       "    }\n",
       "</style>\n",
       "<table border=\"1\" class=\"dataframe\">\n",
       "  <thead>\n",
       "    <tr style=\"text-align: right;\">\n",
       "      <th></th>\n",
       "      <th>realtime_start</th>\n",
       "      <th>realtime_end</th>\n",
       "      <th>date</th>\n",
       "      <th>value</th>\n",
       "    </tr>\n",
       "  </thead>\n",
       "  <tbody>\n",
       "    <tr>\n",
       "      <th>4</th>\n",
       "      <td>2023-09-08</td>\n",
       "      <td>2023-09-08</td>\n",
       "      <td>1950-01-01</td>\n",
       "      <td>2218.5665855133384</td>\n",
       "    </tr>\n",
       "    <tr>\n",
       "      <th>5</th>\n",
       "      <td>2023-09-08</td>\n",
       "      <td>2023-09-08</td>\n",
       "      <td>1950-04-01</td>\n",
       "      <td>2248.1618216748607</td>\n",
       "    </tr>\n",
       "    <tr>\n",
       "      <th>6</th>\n",
       "      <td>2023-09-08</td>\n",
       "      <td>2023-09-08</td>\n",
       "      <td>1950-07-01</td>\n",
       "      <td>2277.0496823235985</td>\n",
       "    </tr>\n",
       "    <tr>\n",
       "      <th>7</th>\n",
       "      <td>2023-09-08</td>\n",
       "      <td>2023-09-08</td>\n",
       "      <td>1950-10-01</td>\n",
       "      <td>2306.715167343248</td>\n",
       "    </tr>\n",
       "    <tr>\n",
       "      <th>8</th>\n",
       "      <td>2023-09-08</td>\n",
       "      <td>2023-09-08</td>\n",
       "      <td>1951-01-01</td>\n",
       "      <td>2336.504742120727</td>\n",
       "    </tr>\n",
       "    <tr>\n",
       "      <th>...</th>\n",
       "      <td>...</td>\n",
       "      <td>...</td>\n",
       "      <td>...</td>\n",
       "      <td>...</td>\n",
       "    </tr>\n",
       "    <tr>\n",
       "      <th>303</th>\n",
       "      <td>2023-09-08</td>\n",
       "      <td>2023-09-08</td>\n",
       "      <td>2024-10-01</td>\n",
       "      <td>21052.3</td>\n",
       "    </tr>\n",
       "    <tr>\n",
       "      <th>304</th>\n",
       "      <td>2023-09-08</td>\n",
       "      <td>2023-09-08</td>\n",
       "      <td>2025-01-01</td>\n",
       "      <td>21143.69</td>\n",
       "    </tr>\n",
       "    <tr>\n",
       "      <th>305</th>\n",
       "      <td>2023-09-08</td>\n",
       "      <td>2023-09-08</td>\n",
       "      <td>2025-04-01</td>\n",
       "      <td>21235.79</td>\n",
       "    </tr>\n",
       "    <tr>\n",
       "      <th>306</th>\n",
       "      <td>2023-09-08</td>\n",
       "      <td>2023-09-08</td>\n",
       "      <td>2025-07-01</td>\n",
       "      <td>21329.03</td>\n",
       "    </tr>\n",
       "    <tr>\n",
       "      <th>307</th>\n",
       "      <td>2023-09-08</td>\n",
       "      <td>2023-09-08</td>\n",
       "      <td>2025-10-01</td>\n",
       "      <td>21423.29</td>\n",
       "    </tr>\n",
       "  </tbody>\n",
       "</table>\n",
       "<p>304 rows × 4 columns</p>\n",
       "</div>"
      ],
      "text/plain": [
       "    realtime_start realtime_end        date               value\n",
       "4       2023-09-08   2023-09-08  1950-01-01  2218.5665855133384\n",
       "5       2023-09-08   2023-09-08  1950-04-01  2248.1618216748607\n",
       "6       2023-09-08   2023-09-08  1950-07-01  2277.0496823235985\n",
       "7       2023-09-08   2023-09-08  1950-10-01   2306.715167343248\n",
       "8       2023-09-08   2023-09-08  1951-01-01   2336.504742120727\n",
       "..             ...          ...         ...                 ...\n",
       "303     2023-09-08   2023-09-08  2024-10-01             21052.3\n",
       "304     2023-09-08   2023-09-08  2025-01-01            21143.69\n",
       "305     2023-09-08   2023-09-08  2025-04-01            21235.79\n",
       "306     2023-09-08   2023-09-08  2025-07-01            21329.03\n",
       "307     2023-09-08   2023-09-08  2025-10-01            21423.29\n",
       "\n",
       "[304 rows x 4 columns]"
      ]
     },
     "execution_count": 5,
     "metadata": {},
     "output_type": "execute_result"
    }
   ],
   "source": [
    "test = fred.get_series_df('GDPPOT')\n",
    "test[test['value'] != '.']"
   ]
  },
  {
   "cell_type": "code",
   "execution_count": 6,
   "id": "5f9c6caf",
   "metadata": {},
   "outputs": [
    {
     "data": {
      "text/plain": [
       "340"
      ]
     },
     "execution_count": 6,
     "metadata": {},
     "output_type": "execute_result"
    }
   ],
   "source": [
    "len(test)"
   ]
  },
  {
   "cell_type": "code",
   "execution_count": 7,
   "id": "bd4510fe",
   "metadata": {},
   "outputs": [
    {
     "data": {
      "text/plain": [
       "dict_keys(['get_series_df'])"
      ]
     },
     "execution_count": 7,
     "metadata": {},
     "output_type": "execute_result"
    }
   ],
   "source": [
    "fred.series_stack.keys()"
   ]
  },
  {
   "cell_type": "code",
   "execution_count": 8,
   "id": "e3b96ef8",
   "metadata": {},
   "outputs": [
    {
     "data": {
      "text/plain": [
       "dict_keys([])"
      ]
     },
     "execution_count": 8,
     "metadata": {},
     "output_type": "execute_result"
    }
   ],
   "source": [
    "fred.release_stack.keys()"
   ]
  },
  {
   "cell_type": "code",
   "execution_count": 9,
   "id": "e20d38c3",
   "metadata": {},
   "outputs": [
    {
     "data": {
      "text/plain": [
       "[{'id': 32991, 'name': 'Money, Banking, & Finance', 'parent_id': 0},\n",
       " {'id': 10, 'name': 'Population, Employment, & Labor Markets', 'parent_id': 0},\n",
       " {'id': 32992, 'name': 'National Accounts', 'parent_id': 0},\n",
       " {'id': 1, 'name': 'Production & Business Activity', 'parent_id': 0},\n",
       " {'id': 32455, 'name': 'Prices', 'parent_id': 0},\n",
       " {'id': 32263, 'name': 'International Data', 'parent_id': 0},\n",
       " {'id': 3008, 'name': 'U.S. Regional Data', 'parent_id': 0},\n",
       " {'id': 33060, 'name': 'Academic Data', 'parent_id': 0}]"
      ]
     },
     "execution_count": 9,
     "metadata": {},
     "output_type": "execute_result"
    }
   ],
   "source": [
    "fred.get_child_categories(0)['categories']"
   ]
  },
  {
   "cell_type": "code",
   "execution_count": 10,
   "id": "4088123c",
   "metadata": {},
   "outputs": [
    {
     "data": {
      "text/plain": [
       "{'categories': [{'id': 32991,\n",
       "   'name': 'Money, Banking, & Finance',\n",
       "   'parent_id': 0},\n",
       "  {'id': 10,\n",
       "   'name': 'Population, Employment, & Labor Markets',\n",
       "   'parent_id': 0},\n",
       "  {'id': 32992, 'name': 'National Accounts', 'parent_id': 0},\n",
       "  {'id': 1, 'name': 'Production & Business Activity', 'parent_id': 0},\n",
       "  {'id': 32455, 'name': 'Prices', 'parent_id': 0},\n",
       "  {'id': 32263, 'name': 'International Data', 'parent_id': 0},\n",
       "  {'id': 3008, 'name': 'U.S. Regional Data', 'parent_id': 0},\n",
       "  {'id': 33060, 'name': 'Academic Data', 'parent_id': 0}]}"
      ]
     },
     "execution_count": 10,
     "metadata": {},
     "output_type": "execute_result"
    }
   ],
   "source": [
    "fred.category_stack['get_child_categories']"
   ]
  },
  {
   "cell_type": "code",
   "execution_count": 11,
   "id": "1fd6b695",
   "metadata": {},
   "outputs": [
    {
     "ename": "KeyError",
     "evalue": "'get_all_sources'",
     "output_type": "error",
     "traceback": [
      "\u001b[1;31m---------------------------------------------------------------------------\u001b[0m",
      "\u001b[1;31mKeyError\u001b[0m                                  Traceback (most recent call last)",
      "Cell \u001b[1;32mIn[11], line 1\u001b[0m\n\u001b[1;32m----> 1\u001b[0m \u001b[43mfred\u001b[49m\u001b[38;5;241;43m.\u001b[39;49m\u001b[43msource_stack\u001b[49m\u001b[43m[\u001b[49m\u001b[38;5;124;43m'\u001b[39;49m\u001b[38;5;124;43mget_all_sources\u001b[39;49m\u001b[38;5;124;43m'\u001b[39;49m\u001b[43m]\u001b[49m\n",
      "\u001b[1;31mKeyError\u001b[0m: 'get_all_sources'"
     ]
    }
   ],
   "source": [
    "fred.source_stack['get_all_sources']"
   ]
  },
  {
   "cell_type": "code",
   "execution_count": 13,
   "id": "fb447276",
   "metadata": {},
   "outputs": [
    {
     "data": {
      "text/html": [
       "<div>\n",
       "<style scoped>\n",
       "    .dataframe tbody tr th:only-of-type {\n",
       "        vertical-align: middle;\n",
       "    }\n",
       "\n",
       "    .dataframe tbody tr th {\n",
       "        vertical-align: top;\n",
       "    }\n",
       "\n",
       "    .dataframe thead th {\n",
       "        text-align: right;\n",
       "    }\n",
       "</style>\n",
       "<table border=\"1\" class=\"dataframe\">\n",
       "  <thead>\n",
       "    <tr style=\"text-align: right;\">\n",
       "      <th></th>\n",
       "      <th>realtime_start</th>\n",
       "      <th>realtime_end</th>\n",
       "      <th>date</th>\n",
       "      <th>value</th>\n",
       "    </tr>\n",
       "  </thead>\n",
       "  <tbody>\n",
       "    <tr>\n",
       "      <th>0</th>\n",
       "      <td>2023-09-08</td>\n",
       "      <td>2023-09-08</td>\n",
       "      <td>1929-01-01</td>\n",
       "      <td>1120.718</td>\n",
       "    </tr>\n",
       "    <tr>\n",
       "      <th>1</th>\n",
       "      <td>2023-09-08</td>\n",
       "      <td>2023-09-08</td>\n",
       "      <td>1930-01-01</td>\n",
       "      <td>1025.678</td>\n",
       "    </tr>\n",
       "    <tr>\n",
       "      <th>2</th>\n",
       "      <td>2023-09-08</td>\n",
       "      <td>2023-09-08</td>\n",
       "      <td>1931-01-01</td>\n",
       "      <td>958.927</td>\n",
       "    </tr>\n",
       "    <tr>\n",
       "      <th>3</th>\n",
       "      <td>2023-09-08</td>\n",
       "      <td>2023-09-08</td>\n",
       "      <td>1932-01-01</td>\n",
       "      <td>834.769</td>\n",
       "    </tr>\n",
       "    <tr>\n",
       "      <th>4</th>\n",
       "      <td>2023-09-08</td>\n",
       "      <td>2023-09-08</td>\n",
       "      <td>1933-01-01</td>\n",
       "      <td>823.628</td>\n",
       "    </tr>\n",
       "    <tr>\n",
       "      <th>...</th>\n",
       "      <td>...</td>\n",
       "      <td>...</td>\n",
       "      <td>...</td>\n",
       "      <td>...</td>\n",
       "    </tr>\n",
       "    <tr>\n",
       "      <th>89</th>\n",
       "      <td>2023-09-08</td>\n",
       "      <td>2023-09-08</td>\n",
       "      <td>2018-01-01</td>\n",
       "      <td>18874.78</td>\n",
       "    </tr>\n",
       "    <tr>\n",
       "      <th>90</th>\n",
       "      <td>2023-09-08</td>\n",
       "      <td>2023-09-08</td>\n",
       "      <td>2019-01-01</td>\n",
       "      <td>19286.841</td>\n",
       "    </tr>\n",
       "    <tr>\n",
       "      <th>91</th>\n",
       "      <td>2023-09-08</td>\n",
       "      <td>2023-09-08</td>\n",
       "      <td>2020-01-01</td>\n",
       "      <td>18685.401</td>\n",
       "    </tr>\n",
       "    <tr>\n",
       "      <th>92</th>\n",
       "      <td>2023-09-08</td>\n",
       "      <td>2023-09-08</td>\n",
       "      <td>2021-01-01</td>\n",
       "      <td>19759.327</td>\n",
       "    </tr>\n",
       "    <tr>\n",
       "      <th>93</th>\n",
       "      <td>2023-09-08</td>\n",
       "      <td>2023-09-08</td>\n",
       "      <td>2022-01-01</td>\n",
       "      <td>20158.225</td>\n",
       "    </tr>\n",
       "  </tbody>\n",
       "</table>\n",
       "<p>94 rows × 4 columns</p>\n",
       "</div>"
      ],
      "text/plain": [
       "   realtime_start realtime_end        date      value\n",
       "0      2023-09-08   2023-09-08  1929-01-01   1120.718\n",
       "1      2023-09-08   2023-09-08  1930-01-01   1025.678\n",
       "2      2023-09-08   2023-09-08  1931-01-01    958.927\n",
       "3      2023-09-08   2023-09-08  1932-01-01    834.769\n",
       "4      2023-09-08   2023-09-08  1933-01-01    823.628\n",
       "..            ...          ...         ...        ...\n",
       "89     2023-09-08   2023-09-08  2018-01-01   18874.78\n",
       "90     2023-09-08   2023-09-08  2019-01-01  19286.841\n",
       "91     2023-09-08   2023-09-08  2020-01-01  18685.401\n",
       "92     2023-09-08   2023-09-08  2021-01-01  19759.327\n",
       "93     2023-09-08   2023-09-08  2022-01-01  20158.225\n",
       "\n",
       "[94 rows x 4 columns]"
      ]
     },
     "execution_count": 13,
     "metadata": {},
     "output_type": "execute_result"
    }
   ],
   "source": [
    "test = fred.get_series_df('GNPCA')\n",
    "test[test['value'] != '.']"
   ]
  },
  {
   "cell_type": "code",
   "execution_count": 14,
   "id": "99898c46",
   "metadata": {},
   "outputs": [],
   "source": [
    "gnpca = fred.get_series_df('GNPCA')[['date', 'value']]"
   ]
  },
  {
   "cell_type": "code",
   "execution_count": 15,
   "id": "bf84c596",
   "metadata": {},
   "outputs": [],
   "source": [
    "gnpca.set_index('date', inplace = True)"
   ]
  },
  {
   "cell_type": "code",
   "execution_count": 16,
   "id": "36a27ff7",
   "metadata": {},
   "outputs": [],
   "source": [
    "gnpca.index = pd.to_datetime(gnpca.index)"
   ]
  },
  {
   "cell_type": "code",
   "execution_count": 17,
   "id": "e3e28407",
   "metadata": {},
   "outputs": [
    {
     "name": "stdout",
     "output_type": "stream",
     "text": [
      "<class 'pandas.core.frame.DataFrame'>\n",
      "DatetimeIndex: 94 entries, 1929-01-01 to 2022-01-01\n",
      "Data columns (total 1 columns):\n",
      " #   Column  Non-Null Count  Dtype \n",
      "---  ------  --------------  ----- \n",
      " 0   value   94 non-null     object\n",
      "dtypes: object(1)\n",
      "memory usage: 1.5+ KB\n"
     ]
    }
   ],
   "source": [
    "gnpca.info()"
   ]
  },
  {
   "cell_type": "code",
   "execution_count": 18,
   "id": "0d6f2bc6",
   "metadata": {},
   "outputs": [
    {
     "data": {
      "text/html": [
       "<div>\n",
       "<style scoped>\n",
       "    .dataframe tbody tr th:only-of-type {\n",
       "        vertical-align: middle;\n",
       "    }\n",
       "\n",
       "    .dataframe tbody tr th {\n",
       "        vertical-align: top;\n",
       "    }\n",
       "\n",
       "    .dataframe thead th {\n",
       "        text-align: right;\n",
       "    }\n",
       "</style>\n",
       "<table border=\"1\" class=\"dataframe\">\n",
       "  <thead>\n",
       "    <tr style=\"text-align: right;\">\n",
       "      <th></th>\n",
       "      <th>value</th>\n",
       "    </tr>\n",
       "    <tr>\n",
       "      <th>date</th>\n",
       "      <th></th>\n",
       "    </tr>\n",
       "  </thead>\n",
       "  <tbody>\n",
       "    <tr>\n",
       "      <th>1929-01-01</th>\n",
       "      <td>1120.718</td>\n",
       "    </tr>\n",
       "    <tr>\n",
       "      <th>1930-01-01</th>\n",
       "      <td>1025.678</td>\n",
       "    </tr>\n",
       "    <tr>\n",
       "      <th>1931-01-01</th>\n",
       "      <td>958.927</td>\n",
       "    </tr>\n",
       "    <tr>\n",
       "      <th>1932-01-01</th>\n",
       "      <td>834.769</td>\n",
       "    </tr>\n",
       "    <tr>\n",
       "      <th>1933-01-01</th>\n",
       "      <td>823.628</td>\n",
       "    </tr>\n",
       "  </tbody>\n",
       "</table>\n",
       "</div>"
      ],
      "text/plain": [
       "               value\n",
       "date                \n",
       "1929-01-01  1120.718\n",
       "1930-01-01  1025.678\n",
       "1931-01-01   958.927\n",
       "1932-01-01   834.769\n",
       "1933-01-01   823.628"
      ]
     },
     "execution_count": 18,
     "metadata": {},
     "output_type": "execute_result"
    }
   ],
   "source": [
    "gnpca.head()"
   ]
  },
  {
   "cell_type": "code",
   "execution_count": 19,
   "id": "4faebb4e",
   "metadata": {},
   "outputs": [
    {
     "data": {
      "text/plain": [
       "value    0\n",
       "dtype: int64"
      ]
     },
     "execution_count": 19,
     "metadata": {},
     "output_type": "execute_result"
    }
   ],
   "source": [
    "gnpca.isna().sum()"
   ]
  },
  {
   "cell_type": "code",
   "execution_count": 20,
   "id": "8022eba2",
   "metadata": {},
   "outputs": [
    {
     "name": "stderr",
     "output_type": "stream",
     "text": [
      "C:\\Users\\User\\AppData\\Local\\Temp\\ipykernel_21900\\211970581.py:1: SettingWithCopyWarning: \n",
      "A value is trying to be set on a copy of a slice from a DataFrame.\n",
      "Try using .loc[row_indexer,col_indexer] = value instead\n",
      "\n",
      "See the caveats in the documentation: https://pandas.pydata.org/pandas-docs/stable/user_guide/indexing.html#returning-a-view-versus-a-copy\n",
      "  gnpca['value'] = gnpca['value'].astype(float)\n"
     ]
    }
   ],
   "source": [
    "gnpca['value'] = gnpca['value'].astype(float)"
   ]
  },
  {
   "cell_type": "code",
   "execution_count": 21,
   "id": "1bc2f880",
   "metadata": {},
   "outputs": [
    {
     "data": {
      "image/png": "[encoded data removed]",
      "text/plain": [
       "<Figure size 640x480 with 1 Axes>"
      ]
     },
     "metadata": {},
     "output_type": "display_data"
    }
   ],
   "source": [
    "sns.lineplot(x = gnpca.index, y = gnpca['value']);\n",
    "plt.yticks(range(0, int(max(gnpca['value'])) + 1000, 1000));"
   ]
  },
  {
   "cell_type": "code",
   "execution_count": 22,
   "id": "d85d243a",
   "metadata": {},
   "outputs": [
    {
     "name": "stderr",
     "output_type": "stream",
     "text": [
      "C:\\Users\\User\\AppData\\Local\\Temp\\ipykernel_21900\\4166311938.py:6: SettingWithCopyWarning: \n",
      "A value is trying to be set on a copy of a slice from a DataFrame.\n",
      "Try using .loc[row_indexer,col_indexer] = value instead\n",
      "\n",
      "See the caveats in the documentation: https://pandas.pydata.org/pandas-docs/stable/user_guide/indexing.html#returning-a-view-versus-a-copy\n",
      "  metric['value'] = metric['value'].astype(float)\n"
     ]
    },
    {
     "data": {
      "image/png": "[encoded data removed]",
      "text/plain": [
       "<Figure size 640x480 with 1 Axes>"
      ]
     },
     "metadata": {},
     "output_type": "display_data"
    }
   ],
   "source": [
    "def ez_plotter(metric):\n",
    "        metric_literal = metric\n",
    "        metric = fred.get_series_df(metric)[['date', 'value']]\n",
    "        metric.set_index('date', inplace = True)\n",
    "        metric.index = pd.to_datetime(metric.index)\n",
    "        metric['value'] = metric['value'].astype(float)\n",
    "\n",
    "        sns.lineplot(x = metric.index, y = metric['value']);\n",
    "        plt.yticks(range(0, int(max(metric['value'])) + 1000, 1000));\n",
    "        plt.title(f\"{metric_literal} from {metric.index.year[0]} to {metric.index.year[-1]}\")\n",
    "    \n",
    "ez_plotter('gnpca')"
   ]
  },
  {
   "cell_type": "code",
   "execution_count": 23,
   "id": "53f8efba",
   "metadata": {},
   "outputs": [],
   "source": [
    "gdppot =  fred.get_series_df('GDPPOT')[['date', 'value']]"
   ]
  },
  {
   "cell_type": "code",
   "execution_count": 24,
   "id": "94912d4f",
   "metadata": {},
   "outputs": [
    {
     "data": {
      "text/html": [
       "<div>\n",
       "<style scoped>\n",
       "    .dataframe tbody tr th:only-of-type {\n",
       "        vertical-align: middle;\n",
       "    }\n",
       "\n",
       "    .dataframe tbody tr th {\n",
       "        vertical-align: top;\n",
       "    }\n",
       "\n",
       "    .dataframe thead th {\n",
       "        text-align: right;\n",
       "    }\n",
       "</style>\n",
       "<table border=\"1\" class=\"dataframe\">\n",
       "  <thead>\n",
       "    <tr style=\"text-align: right;\">\n",
       "      <th></th>\n",
       "      <th>date</th>\n",
       "      <th>value</th>\n",
       "    </tr>\n",
       "  </thead>\n",
       "  <tbody>\n",
       "    <tr>\n",
       "      <th>0</th>\n",
       "      <td>1949-01-01</td>\n",
       "      <td>.</td>\n",
       "    </tr>\n",
       "    <tr>\n",
       "      <th>1</th>\n",
       "      <td>1949-04-01</td>\n",
       "      <td>.</td>\n",
       "    </tr>\n",
       "    <tr>\n",
       "      <th>2</th>\n",
       "      <td>1949-07-01</td>\n",
       "      <td>.</td>\n",
       "    </tr>\n",
       "    <tr>\n",
       "      <th>3</th>\n",
       "      <td>1949-10-01</td>\n",
       "      <td>.</td>\n",
       "    </tr>\n",
       "    <tr>\n",
       "      <th>308</th>\n",
       "      <td>2026-01-01</td>\n",
       "      <td>.</td>\n",
       "    </tr>\n",
       "    <tr>\n",
       "      <th>309</th>\n",
       "      <td>2026-04-01</td>\n",
       "      <td>.</td>\n",
       "    </tr>\n",
       "    <tr>\n",
       "      <th>310</th>\n",
       "      <td>2026-07-01</td>\n",
       "      <td>.</td>\n",
       "    </tr>\n",
       "    <tr>\n",
       "      <th>311</th>\n",
       "      <td>2026-10-01</td>\n",
       "      <td>.</td>\n",
       "    </tr>\n",
       "    <tr>\n",
       "      <th>312</th>\n",
       "      <td>2027-01-01</td>\n",
       "      <td>.</td>\n",
       "    </tr>\n",
       "    <tr>\n",
       "      <th>313</th>\n",
       "      <td>2027-04-01</td>\n",
       "      <td>.</td>\n",
       "    </tr>\n",
       "    <tr>\n",
       "      <th>314</th>\n",
       "      <td>2027-07-01</td>\n",
       "      <td>.</td>\n",
       "    </tr>\n",
       "    <tr>\n",
       "      <th>315</th>\n",
       "      <td>2027-10-01</td>\n",
       "      <td>.</td>\n",
       "    </tr>\n",
       "    <tr>\n",
       "      <th>316</th>\n",
       "      <td>2028-01-01</td>\n",
       "      <td>.</td>\n",
       "    </tr>\n",
       "    <tr>\n",
       "      <th>317</th>\n",
       "      <td>2028-04-01</td>\n",
       "      <td>.</td>\n",
       "    </tr>\n",
       "    <tr>\n",
       "      <th>318</th>\n",
       "      <td>2028-07-01</td>\n",
       "      <td>.</td>\n",
       "    </tr>\n",
       "    <tr>\n",
       "      <th>319</th>\n",
       "      <td>2028-10-01</td>\n",
       "      <td>.</td>\n",
       "    </tr>\n",
       "    <tr>\n",
       "      <th>320</th>\n",
       "      <td>2029-01-01</td>\n",
       "      <td>.</td>\n",
       "    </tr>\n",
       "    <tr>\n",
       "      <th>321</th>\n",
       "      <td>2029-04-01</td>\n",
       "      <td>.</td>\n",
       "    </tr>\n",
       "    <tr>\n",
       "      <th>322</th>\n",
       "      <td>2029-07-01</td>\n",
       "      <td>.</td>\n",
       "    </tr>\n",
       "    <tr>\n",
       "      <th>323</th>\n",
       "      <td>2029-10-01</td>\n",
       "      <td>.</td>\n",
       "    </tr>\n",
       "    <tr>\n",
       "      <th>324</th>\n",
       "      <td>2030-01-01</td>\n",
       "      <td>.</td>\n",
       "    </tr>\n",
       "    <tr>\n",
       "      <th>325</th>\n",
       "      <td>2030-04-01</td>\n",
       "      <td>.</td>\n",
       "    </tr>\n",
       "    <tr>\n",
       "      <th>326</th>\n",
       "      <td>2030-07-01</td>\n",
       "      <td>.</td>\n",
       "    </tr>\n",
       "    <tr>\n",
       "      <th>327</th>\n",
       "      <td>2030-10-01</td>\n",
       "      <td>.</td>\n",
       "    </tr>\n",
       "    <tr>\n",
       "      <th>328</th>\n",
       "      <td>2031-01-01</td>\n",
       "      <td>.</td>\n",
       "    </tr>\n",
       "    <tr>\n",
       "      <th>329</th>\n",
       "      <td>2031-04-01</td>\n",
       "      <td>.</td>\n",
       "    </tr>\n",
       "    <tr>\n",
       "      <th>330</th>\n",
       "      <td>2031-07-01</td>\n",
       "      <td>.</td>\n",
       "    </tr>\n",
       "    <tr>\n",
       "      <th>331</th>\n",
       "      <td>2031-10-01</td>\n",
       "      <td>.</td>\n",
       "    </tr>\n",
       "    <tr>\n",
       "      <th>332</th>\n",
       "      <td>2032-01-01</td>\n",
       "      <td>.</td>\n",
       "    </tr>\n",
       "    <tr>\n",
       "      <th>333</th>\n",
       "      <td>2032-04-01</td>\n",
       "      <td>.</td>\n",
       "    </tr>\n",
       "    <tr>\n",
       "      <th>334</th>\n",
       "      <td>2032-07-01</td>\n",
       "      <td>.</td>\n",
       "    </tr>\n",
       "    <tr>\n",
       "      <th>335</th>\n",
       "      <td>2032-10-01</td>\n",
       "      <td>.</td>\n",
       "    </tr>\n",
       "    <tr>\n",
       "      <th>336</th>\n",
       "      <td>2033-01-01</td>\n",
       "      <td>.</td>\n",
       "    </tr>\n",
       "    <tr>\n",
       "      <th>337</th>\n",
       "      <td>2033-04-01</td>\n",
       "      <td>.</td>\n",
       "    </tr>\n",
       "    <tr>\n",
       "      <th>338</th>\n",
       "      <td>2033-07-01</td>\n",
       "      <td>.</td>\n",
       "    </tr>\n",
       "    <tr>\n",
       "      <th>339</th>\n",
       "      <td>2033-10-01</td>\n",
       "      <td>.</td>\n",
       "    </tr>\n",
       "  </tbody>\n",
       "</table>\n",
       "</div>"
      ],
      "text/plain": [
       "           date value\n",
       "0    1949-01-01     .\n",
       "1    1949-04-01     .\n",
       "2    1949-07-01     .\n",
       "3    1949-10-01     .\n",
       "308  2026-01-01     .\n",
       "309  2026-04-01     .\n",
       "310  2026-07-01     .\n",
       "311  2026-10-01     .\n",
       "312  2027-01-01     .\n",
       "313  2027-04-01     .\n",
       "314  2027-07-01     .\n",
       "315  2027-10-01     .\n",
       "316  2028-01-01     .\n",
       "317  2028-04-01     .\n",
       "318  2028-07-01     .\n",
       "319  2028-10-01     .\n",
       "320  2029-01-01     .\n",
       "321  2029-04-01     .\n",
       "322  2029-07-01     .\n",
       "323  2029-10-01     .\n",
       "324  2030-01-01     .\n",
       "325  2030-04-01     .\n",
       "326  2030-07-01     .\n",
       "327  2030-10-01     .\n",
       "328  2031-01-01     .\n",
       "329  2031-04-01     .\n",
       "330  2031-07-01     .\n",
       "331  2031-10-01     .\n",
       "332  2032-01-01     .\n",
       "333  2032-04-01     .\n",
       "334  2032-07-01     .\n",
       "335  2032-10-01     .\n",
       "336  2033-01-01     .\n",
       "337  2033-04-01     .\n",
       "338  2033-07-01     .\n",
       "339  2033-10-01     ."
      ]
     },
     "execution_count": 24,
     "metadata": {},
     "output_type": "execute_result"
    }
   ],
   "source": [
    "gdppot[gdppot['value'] ==  '.']"
   ]
  },
  {
   "cell_type": "markdown",
   "id": "7b0eb446",
   "metadata": {},
   "source": [
    "Missing potential GDP data for the far future makes sense, but why these data are missing for the year 1949 is harder to explain."
   ]
  },
  {
   "cell_type": "markdown",
   "id": "af457101",
   "metadata": {},
   "source": [
    "In order to allow these data to be visualized, I'll create a subset which doesn't extend into the future, then set the missing data in 1949 to be null. Then I'll plot, impute and plot again."
   ]
  },
  {
   "cell_type": "code",
   "execution_count": 25,
   "id": "de79ad65",
   "metadata": {},
   "outputs": [],
   "source": [
    "gdppot.set_index('date', inplace = True)"
   ]
  },
  {
   "cell_type": "code",
   "execution_count": 26,
   "id": "e777d00d",
   "metadata": {},
   "outputs": [],
   "source": [
    "gdppot.index = pd.to_datetime(gdppot.index)"
   ]
  },
  {
   "cell_type": "code",
   "execution_count": 27,
   "id": "3b35a9ed",
   "metadata": {},
   "outputs": [],
   "source": [
    "gdppot_subset = gdppot.loc[:'2025-12-31']"
   ]
  },
  {
   "cell_type": "code",
   "execution_count": 28,
   "id": "6b112061",
   "metadata": {},
   "outputs": [
    {
     "data": {
      "text/html": [
       "<div>\n",
       "<style scoped>\n",
       "    .dataframe tbody tr th:only-of-type {\n",
       "        vertical-align: middle;\n",
       "    }\n",
       "\n",
       "    .dataframe tbody tr th {\n",
       "        vertical-align: top;\n",
       "    }\n",
       "\n",
       "    .dataframe thead th {\n",
       "        text-align: right;\n",
       "    }\n",
       "</style>\n",
       "<table border=\"1\" class=\"dataframe\">\n",
       "  <thead>\n",
       "    <tr style=\"text-align: right;\">\n",
       "      <th></th>\n",
       "      <th>value</th>\n",
       "    </tr>\n",
       "    <tr>\n",
       "      <th>date</th>\n",
       "      <th></th>\n",
       "    </tr>\n",
       "  </thead>\n",
       "  <tbody>\n",
       "    <tr>\n",
       "      <th>2024-10-01</th>\n",
       "      <td>21052.3</td>\n",
       "    </tr>\n",
       "    <tr>\n",
       "      <th>2025-01-01</th>\n",
       "      <td>21143.69</td>\n",
       "    </tr>\n",
       "    <tr>\n",
       "      <th>2025-04-01</th>\n",
       "      <td>21235.79</td>\n",
       "    </tr>\n",
       "    <tr>\n",
       "      <th>2025-07-01</th>\n",
       "      <td>21329.03</td>\n",
       "    </tr>\n",
       "    <tr>\n",
       "      <th>2025-10-01</th>\n",
       "      <td>21423.29</td>\n",
       "    </tr>\n",
       "  </tbody>\n",
       "</table>\n",
       "</div>"
      ],
      "text/plain": [
       "               value\n",
       "date                \n",
       "2024-10-01   21052.3\n",
       "2025-01-01  21143.69\n",
       "2025-04-01  21235.79\n",
       "2025-07-01  21329.03\n",
       "2025-10-01  21423.29"
      ]
     },
     "execution_count": 28,
     "metadata": {},
     "output_type": "execute_result"
    }
   ],
   "source": [
    "gdppot_subset.tail()"
   ]
  },
  {
   "cell_type": "code",
   "execution_count": 5,
   "id": "653dc543",
   "metadata": {},
   "outputs": [
    {
     "data": {
      "text/html": [
       "<div>\n",
       "<style scoped>\n",
       "    .dataframe tbody tr th:only-of-type {\n",
       "        vertical-align: middle;\n",
       "    }\n",
       "\n",
       "    .dataframe tbody tr th {\n",
       "        vertical-align: top;\n",
       "    }\n",
       "\n",
       "    .dataframe thead th {\n",
       "        text-align: right;\n",
       "    }\n",
       "</style>\n",
       "<table border=\"1\" class=\"dataframe\">\n",
       "  <thead>\n",
       "    <tr style=\"text-align: right;\">\n",
       "      <th></th>\n",
       "      <th>realtime_start</th>\n",
       "      <th>realtime_end</th>\n",
       "      <th>date</th>\n",
       "      <th>value</th>\n",
       "    </tr>\n",
       "  </thead>\n",
       "  <tbody>\n",
       "    <tr>\n",
       "      <th>4</th>\n",
       "      <td>2023-09-08</td>\n",
       "      <td>2023-09-08</td>\n",
       "      <td>1947-01-01</td>\n",
       "      <td>243.164</td>\n",
       "    </tr>\n",
       "    <tr>\n",
       "      <th>5</th>\n",
       "      <td>2023-09-08</td>\n",
       "      <td>2023-09-08</td>\n",
       "      <td>1947-04-01</td>\n",
       "      <td>245.968</td>\n",
       "    </tr>\n",
       "    <tr>\n",
       "      <th>6</th>\n",
       "      <td>2023-09-08</td>\n",
       "      <td>2023-09-08</td>\n",
       "      <td>1947-07-01</td>\n",
       "      <td>249.585</td>\n",
       "    </tr>\n",
       "    <tr>\n",
       "      <th>7</th>\n",
       "      <td>2023-09-08</td>\n",
       "      <td>2023-09-08</td>\n",
       "      <td>1947-10-01</td>\n",
       "      <td>259.745</td>\n",
       "    </tr>\n",
       "    <tr>\n",
       "      <th>8</th>\n",
       "      <td>2023-09-08</td>\n",
       "      <td>2023-09-08</td>\n",
       "      <td>1948-01-01</td>\n",
       "      <td>265.742</td>\n",
       "    </tr>\n",
       "    <tr>\n",
       "      <th>...</th>\n",
       "      <td>...</td>\n",
       "      <td>...</td>\n",
       "      <td>...</td>\n",
       "      <td>...</td>\n",
       "    </tr>\n",
       "    <tr>\n",
       "      <th>305</th>\n",
       "      <td>2023-09-08</td>\n",
       "      <td>2023-09-08</td>\n",
       "      <td>2022-04-01</td>\n",
       "      <td>25248.476</td>\n",
       "    </tr>\n",
       "    <tr>\n",
       "      <th>306</th>\n",
       "      <td>2023-09-08</td>\n",
       "      <td>2023-09-08</td>\n",
       "      <td>2022-07-01</td>\n",
       "      <td>25723.941</td>\n",
       "    </tr>\n",
       "    <tr>\n",
       "      <th>307</th>\n",
       "      <td>2023-09-08</td>\n",
       "      <td>2023-09-08</td>\n",
       "      <td>2022-10-01</td>\n",
       "      <td>26137.992</td>\n",
       "    </tr>\n",
       "    <tr>\n",
       "      <th>308</th>\n",
       "      <td>2023-09-08</td>\n",
       "      <td>2023-09-08</td>\n",
       "      <td>2023-01-01</td>\n",
       "      <td>26529.774</td>\n",
       "    </tr>\n",
       "    <tr>\n",
       "      <th>309</th>\n",
       "      <td>2023-09-08</td>\n",
       "      <td>2023-09-08</td>\n",
       "      <td>2023-04-01</td>\n",
       "      <td>26798.605</td>\n",
       "    </tr>\n",
       "  </tbody>\n",
       "</table>\n",
       "<p>306 rows × 4 columns</p>\n",
       "</div>"
      ],
      "text/plain": [
       "    realtime_start realtime_end        date      value\n",
       "4       2023-09-08   2023-09-08  1947-01-01    243.164\n",
       "5       2023-09-08   2023-09-08  1947-04-01    245.968\n",
       "6       2023-09-08   2023-09-08  1947-07-01    249.585\n",
       "7       2023-09-08   2023-09-08  1947-10-01    259.745\n",
       "8       2023-09-08   2023-09-08  1948-01-01    265.742\n",
       "..             ...          ...         ...        ...\n",
       "305     2023-09-08   2023-09-08  2022-04-01  25248.476\n",
       "306     2023-09-08   2023-09-08  2022-07-01  25723.941\n",
       "307     2023-09-08   2023-09-08  2022-10-01  26137.992\n",
       "308     2023-09-08   2023-09-08  2023-01-01  26529.774\n",
       "309     2023-09-08   2023-09-08  2023-04-01  26798.605\n",
       "\n",
       "[306 rows x 4 columns]"
      ]
     },
     "execution_count": 5,
     "metadata": {},
     "output_type": "execute_result"
    }
   ],
   "source": [
    "test = fred.get_series_df('GDP')\n",
    "test[test['value'] != '.']"
   ]
  },
  {
   "cell_type": "markdown",
   "id": "334c3212",
   "metadata": {},
   "source": [
    "Consumer Price Index Inflation:"
   ]
  },
  {
   "cell_type": "code",
   "execution_count": 12,
   "id": "59912d99",
   "metadata": {},
   "outputs": [
    {
     "data": {
      "text/html": [
       "<div>\n",
       "<style scoped>\n",
       "    .dataframe tbody tr th:only-of-type {\n",
       "        vertical-align: middle;\n",
       "    }\n",
       "\n",
       "    .dataframe tbody tr th {\n",
       "        vertical-align: top;\n",
       "    }\n",
       "\n",
       "    .dataframe thead th {\n",
       "        text-align: right;\n",
       "    }\n",
       "</style>\n",
       "<table border=\"1\" class=\"dataframe\">\n",
       "  <thead>\n",
       "    <tr style=\"text-align: right;\">\n",
       "      <th></th>\n",
       "      <th>realtime_start</th>\n",
       "      <th>realtime_end</th>\n",
       "      <th>date</th>\n",
       "      <th>value</th>\n",
       "    </tr>\n",
       "  </thead>\n",
       "  <tbody>\n",
       "    <tr>\n",
       "      <th>0</th>\n",
       "      <td>2023-09-08</td>\n",
       "      <td>2023-09-08</td>\n",
       "      <td>1960-01-01</td>\n",
       "      <td>1.45797598627786</td>\n",
       "    </tr>\n",
       "    <tr>\n",
       "      <th>1</th>\n",
       "      <td>2023-09-08</td>\n",
       "      <td>2023-09-08</td>\n",
       "      <td>1961-01-01</td>\n",
       "      <td>1.07072414764723</td>\n",
       "    </tr>\n",
       "    <tr>\n",
       "      <th>2</th>\n",
       "      <td>2023-09-08</td>\n",
       "      <td>2023-09-08</td>\n",
       "      <td>1962-01-01</td>\n",
       "      <td>1.19877334820185</td>\n",
       "    </tr>\n",
       "    <tr>\n",
       "      <th>3</th>\n",
       "      <td>2023-09-08</td>\n",
       "      <td>2023-09-08</td>\n",
       "      <td>1963-01-01</td>\n",
       "      <td>1.2396694214876</td>\n",
       "    </tr>\n",
       "    <tr>\n",
       "      <th>4</th>\n",
       "      <td>2023-09-08</td>\n",
       "      <td>2023-09-08</td>\n",
       "      <td>1964-01-01</td>\n",
       "      <td>1.27891156462583</td>\n",
       "    </tr>\n",
       "    <tr>\n",
       "      <th>...</th>\n",
       "      <td>...</td>\n",
       "      <td>...</td>\n",
       "      <td>...</td>\n",
       "      <td>...</td>\n",
       "    </tr>\n",
       "    <tr>\n",
       "      <th>58</th>\n",
       "      <td>2023-09-08</td>\n",
       "      <td>2023-09-08</td>\n",
       "      <td>2018-01-01</td>\n",
       "      <td>2.44258329692818</td>\n",
       "    </tr>\n",
       "    <tr>\n",
       "      <th>59</th>\n",
       "      <td>2023-09-08</td>\n",
       "      <td>2023-09-08</td>\n",
       "      <td>2019-01-01</td>\n",
       "      <td>1.81221007526015</td>\n",
       "    </tr>\n",
       "    <tr>\n",
       "      <th>60</th>\n",
       "      <td>2023-09-08</td>\n",
       "      <td>2023-09-08</td>\n",
       "      <td>2020-01-01</td>\n",
       "      <td>1.23358439630637</td>\n",
       "    </tr>\n",
       "    <tr>\n",
       "      <th>61</th>\n",
       "      <td>2023-09-08</td>\n",
       "      <td>2023-09-08</td>\n",
       "      <td>2021-01-01</td>\n",
       "      <td>4.69785886363739</td>\n",
       "    </tr>\n",
       "    <tr>\n",
       "      <th>62</th>\n",
       "      <td>2023-09-08</td>\n",
       "      <td>2023-09-08</td>\n",
       "      <td>2022-01-01</td>\n",
       "      <td>8.00279982052117</td>\n",
       "    </tr>\n",
       "  </tbody>\n",
       "</table>\n",
       "<p>63 rows × 4 columns</p>\n",
       "</div>"
      ],
      "text/plain": [
       "   realtime_start realtime_end        date             value\n",
       "0      2023-09-08   2023-09-08  1960-01-01  1.45797598627786\n",
       "1      2023-09-08   2023-09-08  1961-01-01  1.07072414764723\n",
       "2      2023-09-08   2023-09-08  1962-01-01  1.19877334820185\n",
       "3      2023-09-08   2023-09-08  1963-01-01   1.2396694214876\n",
       "4      2023-09-08   2023-09-08  1964-01-01  1.27891156462583\n",
       "..            ...          ...         ...               ...\n",
       "58     2023-09-08   2023-09-08  2018-01-01  2.44258329692818\n",
       "59     2023-09-08   2023-09-08  2019-01-01  1.81221007526015\n",
       "60     2023-09-08   2023-09-08  2020-01-01  1.23358439630637\n",
       "61     2023-09-08   2023-09-08  2021-01-01  4.69785886363739\n",
       "62     2023-09-08   2023-09-08  2022-01-01  8.00279982052117\n",
       "\n",
       "[63 rows x 4 columns]"
      ]
     },
     "execution_count": 12,
     "metadata": {},
     "output_type": "execute_result"
    }
   ],
   "source": [
    "# https://fred.stlouisfed.org/series/FPCPITOTLZGUSA\n",
    "test = fred.get_series_df('FPCPITOTLZGUSA')\n",
    "test"
   ]
  },
  {
   "cell_type": "markdown",
   "id": "9c44b0a1",
   "metadata": {},
   "source": [
    "Core inflation"
   ]
  },
  {
   "cell_type": "code",
   "execution_count": 11,
   "id": "71b6b0ed",
   "metadata": {},
   "outputs": [
    {
     "data": {
      "text/html": [
       "<div>\n",
       "<style scoped>\n",
       "    .dataframe tbody tr th:only-of-type {\n",
       "        vertical-align: middle;\n",
       "    }\n",
       "\n",
       "    .dataframe tbody tr th {\n",
       "        vertical-align: top;\n",
       "    }\n",
       "\n",
       "    .dataframe thead th {\n",
       "        text-align: right;\n",
       "    }\n",
       "</style>\n",
       "<table border=\"1\" class=\"dataframe\">\n",
       "  <thead>\n",
       "    <tr style=\"text-align: right;\">\n",
       "      <th></th>\n",
       "      <th>realtime_start</th>\n",
       "      <th>realtime_end</th>\n",
       "      <th>date</th>\n",
       "      <th>value</th>\n",
       "    </tr>\n",
       "  </thead>\n",
       "  <tbody>\n",
       "    <tr>\n",
       "      <th>0</th>\n",
       "      <td>2023-09-08</td>\n",
       "      <td>2023-09-08</td>\n",
       "      <td>1967-12-01</td>\n",
       "      <td>3.383497007</td>\n",
       "    </tr>\n",
       "    <tr>\n",
       "      <th>1</th>\n",
       "      <td>2023-09-08</td>\n",
       "      <td>2023-09-08</td>\n",
       "      <td>1968-01-01</td>\n",
       "      <td>3.659987292</td>\n",
       "    </tr>\n",
       "    <tr>\n",
       "      <th>2</th>\n",
       "      <td>2023-09-08</td>\n",
       "      <td>2023-09-08</td>\n",
       "      <td>1968-02-01</td>\n",
       "      <td>3.682012499</td>\n",
       "    </tr>\n",
       "    <tr>\n",
       "      <th>3</th>\n",
       "      <td>2023-09-08</td>\n",
       "      <td>2023-09-08</td>\n",
       "      <td>1968-03-01</td>\n",
       "      <td>4.151667589</td>\n",
       "    </tr>\n",
       "    <tr>\n",
       "      <th>4</th>\n",
       "      <td>2023-09-08</td>\n",
       "      <td>2023-09-08</td>\n",
       "      <td>1968-04-01</td>\n",
       "      <td>4.165427174</td>\n",
       "    </tr>\n",
       "    <tr>\n",
       "      <th>...</th>\n",
       "      <td>...</td>\n",
       "      <td>...</td>\n",
       "      <td>...</td>\n",
       "      <td>...</td>\n",
       "    </tr>\n",
       "    <tr>\n",
       "      <th>663</th>\n",
       "      <td>2023-09-08</td>\n",
       "      <td>2023-09-08</td>\n",
       "      <td>2023-03-01</td>\n",
       "      <td>6.451708317</td>\n",
       "    </tr>\n",
       "    <tr>\n",
       "      <th>664</th>\n",
       "      <td>2023-09-08</td>\n",
       "      <td>2023-09-08</td>\n",
       "      <td>2023-04-01</td>\n",
       "      <td>6.322748661</td>\n",
       "    </tr>\n",
       "    <tr>\n",
       "      <th>665</th>\n",
       "      <td>2023-09-08</td>\n",
       "      <td>2023-09-08</td>\n",
       "      <td>2023-05-01</td>\n",
       "      <td>6.000605583</td>\n",
       "    </tr>\n",
       "    <tr>\n",
       "      <th>666</th>\n",
       "      <td>2023-09-08</td>\n",
       "      <td>2023-09-08</td>\n",
       "      <td>2023-06-01</td>\n",
       "      <td>5.62652874</td>\n",
       "    </tr>\n",
       "    <tr>\n",
       "      <th>667</th>\n",
       "      <td>2023-09-08</td>\n",
       "      <td>2023-09-08</td>\n",
       "      <td>2023-07-01</td>\n",
       "      <td>5.45608902</td>\n",
       "    </tr>\n",
       "  </tbody>\n",
       "</table>\n",
       "<p>668 rows × 4 columns</p>\n",
       "</div>"
      ],
      "text/plain": [
       "    realtime_start realtime_end        date        value\n",
       "0       2023-09-08   2023-09-08  1967-12-01  3.383497007\n",
       "1       2023-09-08   2023-09-08  1968-01-01  3.659987292\n",
       "2       2023-09-08   2023-09-08  1968-02-01  3.682012499\n",
       "3       2023-09-08   2023-09-08  1968-03-01  4.151667589\n",
       "4       2023-09-08   2023-09-08  1968-04-01  4.165427174\n",
       "..             ...          ...         ...          ...\n",
       "663     2023-09-08   2023-09-08  2023-03-01  6.451708317\n",
       "664     2023-09-08   2023-09-08  2023-04-01  6.322748661\n",
       "665     2023-09-08   2023-09-08  2023-05-01  6.000605583\n",
       "666     2023-09-08   2023-09-08  2023-06-01   5.62652874\n",
       "667     2023-09-08   2023-09-08  2023-07-01   5.45608902\n",
       "\n",
       "[668 rows x 4 columns]"
      ]
     },
     "execution_count": 11,
     "metadata": {},
     "output_type": "execute_result"
    }
   ],
   "source": [
    "#https://fred.stlouisfed.org/series/CORESTICKM159SFRBATL\n",
    "test = fred.get_series_df('CORESTICKM159SFRBATL')\n",
    "test"
   ]
  },
  {
   "cell_type": "markdown",
   "id": "45822128",
   "metadata": {},
   "source": [
    "Unemployment"
   ]
  },
  {
   "cell_type": "code",
   "execution_count": 16,
   "id": "a00007eb",
   "metadata": {},
   "outputs": [
    {
     "data": {
      "text/html": [
       "<div>\n",
       "<style scoped>\n",
       "    .dataframe tbody tr th:only-of-type {\n",
       "        vertical-align: middle;\n",
       "    }\n",
       "\n",
       "    .dataframe tbody tr th {\n",
       "        vertical-align: top;\n",
       "    }\n",
       "\n",
       "    .dataframe thead th {\n",
       "        text-align: right;\n",
       "    }\n",
       "</style>\n",
       "<table border=\"1\" class=\"dataframe\">\n",
       "  <thead>\n",
       "    <tr style=\"text-align: right;\">\n",
       "      <th></th>\n",
       "      <th>realtime_start</th>\n",
       "      <th>realtime_end</th>\n",
       "      <th>date</th>\n",
       "      <th>value</th>\n",
       "    </tr>\n",
       "  </thead>\n",
       "  <tbody>\n",
       "    <tr>\n",
       "      <th>0</th>\n",
       "      <td>2023-09-08</td>\n",
       "      <td>2023-09-08</td>\n",
       "      <td>1948-01-01</td>\n",
       "      <td>3.4</td>\n",
       "    </tr>\n",
       "    <tr>\n",
       "      <th>1</th>\n",
       "      <td>2023-09-08</td>\n",
       "      <td>2023-09-08</td>\n",
       "      <td>1948-02-01</td>\n",
       "      <td>3.8</td>\n",
       "    </tr>\n",
       "    <tr>\n",
       "      <th>2</th>\n",
       "      <td>2023-09-08</td>\n",
       "      <td>2023-09-08</td>\n",
       "      <td>1948-03-01</td>\n",
       "      <td>4.0</td>\n",
       "    </tr>\n",
       "    <tr>\n",
       "      <th>3</th>\n",
       "      <td>2023-09-08</td>\n",
       "      <td>2023-09-08</td>\n",
       "      <td>1948-04-01</td>\n",
       "      <td>3.9</td>\n",
       "    </tr>\n",
       "    <tr>\n",
       "      <th>4</th>\n",
       "      <td>2023-09-08</td>\n",
       "      <td>2023-09-08</td>\n",
       "      <td>1948-05-01</td>\n",
       "      <td>3.5</td>\n",
       "    </tr>\n",
       "    <tr>\n",
       "      <th>...</th>\n",
       "      <td>...</td>\n",
       "      <td>...</td>\n",
       "      <td>...</td>\n",
       "      <td>...</td>\n",
       "    </tr>\n",
       "    <tr>\n",
       "      <th>903</th>\n",
       "      <td>2023-09-08</td>\n",
       "      <td>2023-09-08</td>\n",
       "      <td>2023-04-01</td>\n",
       "      <td>3.4</td>\n",
       "    </tr>\n",
       "    <tr>\n",
       "      <th>904</th>\n",
       "      <td>2023-09-08</td>\n",
       "      <td>2023-09-08</td>\n",
       "      <td>2023-05-01</td>\n",
       "      <td>3.7</td>\n",
       "    </tr>\n",
       "    <tr>\n",
       "      <th>905</th>\n",
       "      <td>2023-09-08</td>\n",
       "      <td>2023-09-08</td>\n",
       "      <td>2023-06-01</td>\n",
       "      <td>3.6</td>\n",
       "    </tr>\n",
       "    <tr>\n",
       "      <th>906</th>\n",
       "      <td>2023-09-08</td>\n",
       "      <td>2023-09-08</td>\n",
       "      <td>2023-07-01</td>\n",
       "      <td>3.5</td>\n",
       "    </tr>\n",
       "    <tr>\n",
       "      <th>907</th>\n",
       "      <td>2023-09-08</td>\n",
       "      <td>2023-09-08</td>\n",
       "      <td>2023-08-01</td>\n",
       "      <td>3.8</td>\n",
       "    </tr>\n",
       "  </tbody>\n",
       "</table>\n",
       "<p>908 rows × 4 columns</p>\n",
       "</div>"
      ],
      "text/plain": [
       "    realtime_start realtime_end        date value\n",
       "0       2023-09-08   2023-09-08  1948-01-01   3.4\n",
       "1       2023-09-08   2023-09-08  1948-02-01   3.8\n",
       "2       2023-09-08   2023-09-08  1948-03-01   4.0\n",
       "3       2023-09-08   2023-09-08  1948-04-01   3.9\n",
       "4       2023-09-08   2023-09-08  1948-05-01   3.5\n",
       "..             ...          ...         ...   ...\n",
       "903     2023-09-08   2023-09-08  2023-04-01   3.4\n",
       "904     2023-09-08   2023-09-08  2023-05-01   3.7\n",
       "905     2023-09-08   2023-09-08  2023-06-01   3.6\n",
       "906     2023-09-08   2023-09-08  2023-07-01   3.5\n",
       "907     2023-09-08   2023-09-08  2023-08-01   3.8\n",
       "\n",
       "[908 rows x 4 columns]"
      ]
     },
     "execution_count": 16,
     "metadata": {},
     "output_type": "execute_result"
    }
   ],
   "source": [
    "#https://fred.stlouisfed.org/series/UNRATE/\n",
    "test = fred.get_series_df('UNRATE')\n",
    "test"
   ]
  },
  {
   "cell_type": "markdown",
   "id": "285e0cde",
   "metadata": {},
   "source": [
    "Productivity (non-farm output/hour)"
   ]
  },
  {
   "cell_type": "code",
   "execution_count": 15,
   "id": "aae32a70",
   "metadata": {},
   "outputs": [
    {
     "data": {
      "text/html": [
       "<div>\n",
       "<style scoped>\n",
       "    .dataframe tbody tr th:only-of-type {\n",
       "        vertical-align: middle;\n",
       "    }\n",
       "\n",
       "    .dataframe tbody tr th {\n",
       "        vertical-align: top;\n",
       "    }\n",
       "\n",
       "    .dataframe thead th {\n",
       "        text-align: right;\n",
       "    }\n",
       "</style>\n",
       "<table border=\"1\" class=\"dataframe\">\n",
       "  <thead>\n",
       "    <tr style=\"text-align: right;\">\n",
       "      <th></th>\n",
       "      <th>realtime_start</th>\n",
       "      <th>realtime_end</th>\n",
       "      <th>date</th>\n",
       "      <th>value</th>\n",
       "    </tr>\n",
       "  </thead>\n",
       "  <tbody>\n",
       "    <tr>\n",
       "      <th>0</th>\n",
       "      <td>2023-09-08</td>\n",
       "      <td>2023-09-08</td>\n",
       "      <td>1947-04-01</td>\n",
       "      <td>9.4</td>\n",
       "    </tr>\n",
       "    <tr>\n",
       "      <th>1</th>\n",
       "      <td>2023-09-08</td>\n",
       "      <td>2023-09-08</td>\n",
       "      <td>1947-07-01</td>\n",
       "      <td>-11.7</td>\n",
       "    </tr>\n",
       "    <tr>\n",
       "      <th>2</th>\n",
       "      <td>2023-09-08</td>\n",
       "      <td>2023-09-08</td>\n",
       "      <td>1947-10-01</td>\n",
       "      <td>18.0</td>\n",
       "    </tr>\n",
       "    <tr>\n",
       "      <th>3</th>\n",
       "      <td>2023-09-08</td>\n",
       "      <td>2023-09-08</td>\n",
       "      <td>1948-01-01</td>\n",
       "      <td>1.8</td>\n",
       "    </tr>\n",
       "    <tr>\n",
       "      <th>4</th>\n",
       "      <td>2023-09-08</td>\n",
       "      <td>2023-09-08</td>\n",
       "      <td>1948-04-01</td>\n",
       "      <td>-1.0</td>\n",
       "    </tr>\n",
       "    <tr>\n",
       "      <th>...</th>\n",
       "      <td>...</td>\n",
       "      <td>...</td>\n",
       "      <td>...</td>\n",
       "      <td>...</td>\n",
       "    </tr>\n",
       "    <tr>\n",
       "      <th>300</th>\n",
       "      <td>2023-09-08</td>\n",
       "      <td>2023-09-08</td>\n",
       "      <td>2022-04-01</td>\n",
       "      <td>-3.7</td>\n",
       "    </tr>\n",
       "    <tr>\n",
       "      <th>301</th>\n",
       "      <td>2023-09-08</td>\n",
       "      <td>2023-09-08</td>\n",
       "      <td>2022-07-01</td>\n",
       "      <td>1.2</td>\n",
       "    </tr>\n",
       "    <tr>\n",
       "      <th>302</th>\n",
       "      <td>2023-09-08</td>\n",
       "      <td>2023-09-08</td>\n",
       "      <td>2022-10-01</td>\n",
       "      <td>1.6</td>\n",
       "    </tr>\n",
       "    <tr>\n",
       "      <th>303</th>\n",
       "      <td>2023-09-08</td>\n",
       "      <td>2023-09-08</td>\n",
       "      <td>2023-01-01</td>\n",
       "      <td>-1.2</td>\n",
       "    </tr>\n",
       "    <tr>\n",
       "      <th>304</th>\n",
       "      <td>2023-09-08</td>\n",
       "      <td>2023-09-08</td>\n",
       "      <td>2023-04-01</td>\n",
       "      <td>3.5</td>\n",
       "    </tr>\n",
       "  </tbody>\n",
       "</table>\n",
       "<p>305 rows × 4 columns</p>\n",
       "</div>"
      ],
      "text/plain": [
       "    realtime_start realtime_end        date  value\n",
       "0       2023-09-08   2023-09-08  1947-04-01    9.4\n",
       "1       2023-09-08   2023-09-08  1947-07-01  -11.7\n",
       "2       2023-09-08   2023-09-08  1947-10-01   18.0\n",
       "3       2023-09-08   2023-09-08  1948-01-01    1.8\n",
       "4       2023-09-08   2023-09-08  1948-04-01   -1.0\n",
       "..             ...          ...         ...    ...\n",
       "300     2023-09-08   2023-09-08  2022-04-01   -3.7\n",
       "301     2023-09-08   2023-09-08  2022-07-01    1.2\n",
       "302     2023-09-08   2023-09-08  2022-10-01    1.6\n",
       "303     2023-09-08   2023-09-08  2023-01-01   -1.2\n",
       "304     2023-09-08   2023-09-08  2023-04-01    3.5\n",
       "\n",
       "[305 rows x 4 columns]"
      ]
     },
     "execution_count": 15,
     "metadata": {},
     "output_type": "execute_result"
    }
   ],
   "source": [
    "#https://fred.stlouisfed.org/series/PRS85006092\n",
    "test = fred.get_series_df('PRS85006092')\n",
    "test"
   ]
  },
  {
   "cell_type": "markdown",
   "id": "5e2f4cb6",
   "metadata": {},
   "source": [
    "Capital intensity"
   ]
  },
  {
   "cell_type": "code",
   "execution_count": 48,
   "id": "c0b19c9f",
   "metadata": {},
   "outputs": [
    {
     "data": {
      "text/html": [
       "<div>\n",
       "<style scoped>\n",
       "    .dataframe tbody tr th:only-of-type {\n",
       "        vertical-align: middle;\n",
       "    }\n",
       "\n",
       "    .dataframe tbody tr th {\n",
       "        vertical-align: top;\n",
       "    }\n",
       "\n",
       "    .dataframe thead th {\n",
       "        text-align: right;\n",
       "    }\n",
       "</style>\n",
       "<table border=\"1\" class=\"dataframe\">\n",
       "  <thead>\n",
       "    <tr style=\"text-align: right;\">\n",
       "      <th></th>\n",
       "      <th>realtime_start</th>\n",
       "      <th>realtime_end</th>\n",
       "      <th>date</th>\n",
       "      <th>value</th>\n",
       "    </tr>\n",
       "  </thead>\n",
       "  <tbody>\n",
       "    <tr>\n",
       "      <th>0</th>\n",
       "      <td>2023-09-08</td>\n",
       "      <td>2023-09-08</td>\n",
       "      <td>1988-01-01</td>\n",
       "      <td>1.3</td>\n",
       "    </tr>\n",
       "    <tr>\n",
       "      <th>1</th>\n",
       "      <td>2023-09-08</td>\n",
       "      <td>2023-09-08</td>\n",
       "      <td>1989-01-01</td>\n",
       "      <td>1.3</td>\n",
       "    </tr>\n",
       "    <tr>\n",
       "      <th>2</th>\n",
       "      <td>2023-09-08</td>\n",
       "      <td>2023-09-08</td>\n",
       "      <td>1990-01-01</td>\n",
       "      <td>3.8</td>\n",
       "    </tr>\n",
       "    <tr>\n",
       "      <th>3</th>\n",
       "      <td>2023-09-08</td>\n",
       "      <td>2023-09-08</td>\n",
       "      <td>1991-01-01</td>\n",
       "      <td>5.2</td>\n",
       "    </tr>\n",
       "    <tr>\n",
       "      <th>4</th>\n",
       "      <td>2023-09-08</td>\n",
       "      <td>2023-09-08</td>\n",
       "      <td>1992-01-01</td>\n",
       "      <td>2.6</td>\n",
       "    </tr>\n",
       "  </tbody>\n",
       "</table>\n",
       "</div>"
      ],
      "text/plain": [
       "  realtime_start realtime_end        date value\n",
       "0     2023-09-08   2023-09-08  1988-01-01   1.3\n",
       "1     2023-09-08   2023-09-08  1989-01-01   1.3\n",
       "2     2023-09-08   2023-09-08  1990-01-01   3.8\n",
       "3     2023-09-08   2023-09-08  1991-01-01   5.2\n",
       "4     2023-09-08   2023-09-08  1992-01-01   2.6"
      ]
     },
     "execution_count": 48,
     "metadata": {},
     "output_type": "execute_result"
    }
   ],
   "source": [
    "#https://fred.stlouisfed.org/series/MPU4900083\n",
    "capital_intensity = fred.get_series_df('MPU4900083')\n",
    "capital_intensity.head()"
   ]
  },
  {
   "cell_type": "code",
   "execution_count": 49,
   "id": "60e1228b",
   "metadata": {},
   "outputs": [],
   "source": [
    "capital_intensity.set_index('date', inplace = True)"
   ]
  },
  {
   "cell_type": "code",
   "execution_count": 50,
   "id": "7349c1ff",
   "metadata": {},
   "outputs": [
    {
     "name": "stdout",
     "output_type": "stream",
     "text": [
      "<class 'pandas.core.frame.DataFrame'>\n",
      "DatetimeIndex: 35 entries, 1988-01-01 to 2022-01-01\n",
      "Data columns (total 3 columns):\n",
      " #   Column          Non-Null Count  Dtype \n",
      "---  ------          --------------  ----- \n",
      " 0   realtime_start  35 non-null     object\n",
      " 1   realtime_end    35 non-null     object\n",
      " 2   value           35 non-null     object\n",
      "dtypes: object(3)\n",
      "memory usage: 1.1+ KB\n"
     ]
    }
   ],
   "source": [
    "capital_intensity.index = pd.to_datetime(capital_intensity.index)\n",
    "capital_intensity.info()"
   ]
  },
  {
   "cell_type": "code",
   "execution_count": 51,
   "id": "7082167f",
   "metadata": {},
   "outputs": [
    {
     "data": {
      "text/plain": [
       "realtime_start    0\n",
       "realtime_end      0\n",
       "value             0\n",
       "dtype: int64"
      ]
     },
     "execution_count": 51,
     "metadata": {},
     "output_type": "execute_result"
    }
   ],
   "source": [
    "capital_intensity.isna().sum()"
   ]
  },
  {
   "cell_type": "code",
   "execution_count": 52,
   "id": "f75a7861",
   "metadata": {},
   "outputs": [],
   "source": [
    "capital_intensity['value'] = capital_intensity['value'].astype(float)"
   ]
  },
  {
   "cell_type": "code",
   "execution_count": 53,
   "id": "2b7ed21e",
   "metadata": {},
   "outputs": [
    {
     "data": {
      "text/plain": [
       "realtime_start     object\n",
       "realtime_end       object\n",
       "value             float64\n",
       "dtype: object"
      ]
     },
     "execution_count": 53,
     "metadata": {},
     "output_type": "execute_result"
    }
   ],
   "source": [
    "capital_intensity.dtypes"
   ]
  },
  {
   "cell_type": "code",
   "execution_count": 55,
   "id": "e50efc67",
   "metadata": {},
   "outputs": [
    {
     "data": {
      "text/plain": [
       "date\n",
       "1988-01-01     1.3\n",
       "1989-01-01     1.3\n",
       "1990-01-01     3.8\n",
       "1991-01-01     5.2\n",
       "1992-01-01     2.6\n",
       "1993-01-01     0.4\n",
       "1994-01-01    -0.4\n",
       "1995-01-01     1.9\n",
       "1996-01-01     2.4\n",
       "1997-01-01     2.1\n",
       "1998-01-01     4.0\n",
       "1999-01-01     5.5\n",
       "2000-01-01     4.6\n",
       "2001-01-01     6.7\n",
       "2002-01-01     6.0\n",
       "2003-01-01     3.4\n",
       "2004-01-01     1.5\n",
       "2005-01-01     1.8\n",
       "2006-01-01     1.5\n",
       "2007-01-01     2.6\n",
       "2008-01-01     5.2\n",
       "2009-01-01     9.0\n",
       "2010-01-01     0.8\n",
       "2011-01-01    -0.5\n",
       "2012-01-01    -0.5\n",
       "2013-01-01     0.9\n",
       "2014-01-01     0.2\n",
       "2015-01-01     0.6\n",
       "2016-01-01     1.8\n",
       "2017-01-01     1.4\n",
       "2018-01-01     1.1\n",
       "2019-01-01     2.3\n",
       "2020-01-01    11.0\n",
       "2021-01-01    -3.0\n",
       "2022-01-01    -0.8\n",
       "Name: value, dtype: float64"
      ]
     },
     "execution_count": 55,
     "metadata": {},
     "output_type": "execute_result"
    }
   ],
   "source": [
    "capital_intensity['value']"
   ]
  },
  {
   "cell_type": "code",
   "execution_count": 64,
   "id": "e4df9e53",
   "metadata": {},
   "outputs": [
    {
     "data": {
      "image/png": "[encoded data removed]",
      "text/plain": [
       "<Figure size 2400x1200 with 1 Axes>"
      ]
     },
     "metadata": {},
     "output_type": "display_data"
    }
   ],
   "source": [
    "plt.figure(figsize = (12,6), dpi = 200)\n",
    "sns.lineplot(x = capital_intensity.index, y = capital_intensity['value']);\n",
    "plt.title('Private Sector Capital Intensity Over Time');"
   ]
  },
  {
   "cell_type": "markdown",
   "id": "df5bc2a5",
   "metadata": {},
   "source": [
    "**TARGET:** Federal Funds Effective Rate"
   ]
  },
  {
   "cell_type": "code",
   "execution_count": 65,
   "id": "8ce1196c",
   "metadata": {},
   "outputs": [
    {
     "data": {
      "text/html": [
       "<div>\n",
       "<style scoped>\n",
       "    .dataframe tbody tr th:only-of-type {\n",
       "        vertical-align: middle;\n",
       "    }\n",
       "\n",
       "    .dataframe tbody tr th {\n",
       "        vertical-align: top;\n",
       "    }\n",
       "\n",
       "    .dataframe thead th {\n",
       "        text-align: right;\n",
       "    }\n",
       "</style>\n",
       "<table border=\"1\" class=\"dataframe\">\n",
       "  <thead>\n",
       "    <tr style=\"text-align: right;\">\n",
       "      <th></th>\n",
       "      <th>realtime_start</th>\n",
       "      <th>realtime_end</th>\n",
       "      <th>date</th>\n",
       "      <th>value</th>\n",
       "    </tr>\n",
       "  </thead>\n",
       "  <tbody>\n",
       "    <tr>\n",
       "      <th>0</th>\n",
       "      <td>2023-09-08</td>\n",
       "      <td>2023-09-08</td>\n",
       "      <td>1954-07-01</td>\n",
       "      <td>0.80</td>\n",
       "    </tr>\n",
       "    <tr>\n",
       "      <th>1</th>\n",
       "      <td>2023-09-08</td>\n",
       "      <td>2023-09-08</td>\n",
       "      <td>1954-08-01</td>\n",
       "      <td>1.22</td>\n",
       "    </tr>\n",
       "    <tr>\n",
       "      <th>2</th>\n",
       "      <td>2023-09-08</td>\n",
       "      <td>2023-09-08</td>\n",
       "      <td>1954-09-01</td>\n",
       "      <td>1.07</td>\n",
       "    </tr>\n",
       "    <tr>\n",
       "      <th>3</th>\n",
       "      <td>2023-09-08</td>\n",
       "      <td>2023-09-08</td>\n",
       "      <td>1954-10-01</td>\n",
       "      <td>0.85</td>\n",
       "    </tr>\n",
       "    <tr>\n",
       "      <th>4</th>\n",
       "      <td>2023-09-08</td>\n",
       "      <td>2023-09-08</td>\n",
       "      <td>1954-11-01</td>\n",
       "      <td>0.83</td>\n",
       "    </tr>\n",
       "  </tbody>\n",
       "</table>\n",
       "</div>"
      ],
      "text/plain": [
       "  realtime_start realtime_end        date value\n",
       "0     2023-09-08   2023-09-08  1954-07-01  0.80\n",
       "1     2023-09-08   2023-09-08  1954-08-01  1.22\n",
       "2     2023-09-08   2023-09-08  1954-09-01  1.07\n",
       "3     2023-09-08   2023-09-08  1954-10-01  0.85\n",
       "4     2023-09-08   2023-09-08  1954-11-01  0.83"
      ]
     },
     "execution_count": 65,
     "metadata": {},
     "output_type": "execute_result"
    }
   ],
   "source": [
    "#https://fred.stlouisfed.org/series/FEDFUNDS\n",
    "interest_rates = fred.get_series_df('FEDFUNDS')\n",
    "interest_rates.head()"
   ]
  },
  {
   "cell_type": "code",
   "execution_count": 66,
   "id": "e375d1c0",
   "metadata": {},
   "outputs": [
    {
     "name": "stdout",
     "output_type": "stream",
     "text": [
      "<class 'pandas.core.frame.DataFrame'>\n",
      "DatetimeIndex: 830 entries, 1954-07-01 to 2023-08-01\n",
      "Data columns (total 3 columns):\n",
      " #   Column          Non-Null Count  Dtype \n",
      "---  ------          --------------  ----- \n",
      " 0   realtime_start  830 non-null    object\n",
      " 1   realtime_end    830 non-null    object\n",
      " 2   value           830 non-null    object\n",
      "dtypes: object(3)\n",
      "memory usage: 25.9+ KB\n"
     ]
    }
   ],
   "source": [
    "interest_rates.set_index('date', inplace = True)\n",
    "interest_rates.index = pd.to_datetime(interest_rates.index)\n",
    "interest_rates.info()"
   ]
  },
  {
   "cell_type": "code",
   "execution_count": 67,
   "id": "cfe5e6bf",
   "metadata": {},
   "outputs": [
    {
     "data": {
      "text/html": [
       "<div>\n",
       "<style scoped>\n",
       "    .dataframe tbody tr th:only-of-type {\n",
       "        vertical-align: middle;\n",
       "    }\n",
       "\n",
       "    .dataframe tbody tr th {\n",
       "        vertical-align: top;\n",
       "    }\n",
       "\n",
       "    .dataframe thead th {\n",
       "        text-align: right;\n",
       "    }\n",
       "</style>\n",
       "<table border=\"1\" class=\"dataframe\">\n",
       "  <thead>\n",
       "    <tr style=\"text-align: right;\">\n",
       "      <th></th>\n",
       "      <th>realtime_start</th>\n",
       "      <th>realtime_end</th>\n",
       "      <th>value</th>\n",
       "    </tr>\n",
       "    <tr>\n",
       "      <th>date</th>\n",
       "      <th></th>\n",
       "      <th></th>\n",
       "      <th></th>\n",
       "    </tr>\n",
       "  </thead>\n",
       "  <tbody>\n",
       "    <tr>\n",
       "      <th>1954-07-01</th>\n",
       "      <td>2023-09-08</td>\n",
       "      <td>2023-09-08</td>\n",
       "      <td>0.80</td>\n",
       "    </tr>\n",
       "    <tr>\n",
       "      <th>1954-08-01</th>\n",
       "      <td>2023-09-08</td>\n",
       "      <td>2023-09-08</td>\n",
       "      <td>1.22</td>\n",
       "    </tr>\n",
       "    <tr>\n",
       "      <th>1954-09-01</th>\n",
       "      <td>2023-09-08</td>\n",
       "      <td>2023-09-08</td>\n",
       "      <td>1.07</td>\n",
       "    </tr>\n",
       "    <tr>\n",
       "      <th>1954-10-01</th>\n",
       "      <td>2023-09-08</td>\n",
       "      <td>2023-09-08</td>\n",
       "      <td>0.85</td>\n",
       "    </tr>\n",
       "    <tr>\n",
       "      <th>1954-11-01</th>\n",
       "      <td>2023-09-08</td>\n",
       "      <td>2023-09-08</td>\n",
       "      <td>0.83</td>\n",
       "    </tr>\n",
       "  </tbody>\n",
       "</table>\n",
       "</div>"
      ],
      "text/plain": [
       "           realtime_start realtime_end value\n",
       "date                                        \n",
       "1954-07-01     2023-09-08   2023-09-08  0.80\n",
       "1954-08-01     2023-09-08   2023-09-08  1.22\n",
       "1954-09-01     2023-09-08   2023-09-08  1.07\n",
       "1954-10-01     2023-09-08   2023-09-08  0.85\n",
       "1954-11-01     2023-09-08   2023-09-08  0.83"
      ]
     },
     "execution_count": 67,
     "metadata": {},
     "output_type": "execute_result"
    }
   ],
   "source": [
    "interest_rates.head()"
   ]
  },
  {
   "cell_type": "code",
   "execution_count": 68,
   "id": "707fd52d",
   "metadata": {},
   "outputs": [
    {
     "data": {
      "text/plain": [
       "realtime_start    0\n",
       "realtime_end      0\n",
       "value             0\n",
       "dtype: int64"
      ]
     },
     "execution_count": 68,
     "metadata": {},
     "output_type": "execute_result"
    }
   ],
   "source": [
    "interest_rates.isna().sum()"
   ]
  },
  {
   "cell_type": "code",
   "execution_count": 69,
   "id": "95cf8c98",
   "metadata": {},
   "outputs": [],
   "source": [
    "interest_rates['value'] = interest_rates['value'].astype(float)"
   ]
  },
  {
   "cell_type": "code",
   "execution_count": 81,
   "id": "f1f929ad",
   "metadata": {},
   "outputs": [
    {
     "data": {
      "text/html": [
       "<div>\n",
       "<style scoped>\n",
       "    .dataframe tbody tr th:only-of-type {\n",
       "        vertical-align: middle;\n",
       "    }\n",
       "\n",
       "    .dataframe tbody tr th {\n",
       "        vertical-align: top;\n",
       "    }\n",
       "\n",
       "    .dataframe thead th {\n",
       "        text-align: right;\n",
       "    }\n",
       "</style>\n",
       "<table border=\"1\" class=\"dataframe\">\n",
       "  <thead>\n",
       "    <tr style=\"text-align: right;\">\n",
       "      <th></th>\n",
       "      <th>realtime_start</th>\n",
       "      <th>realtime_end</th>\n",
       "      <th>value</th>\n",
       "    </tr>\n",
       "    <tr>\n",
       "      <th>date</th>\n",
       "      <th></th>\n",
       "      <th></th>\n",
       "      <th></th>\n",
       "    </tr>\n",
       "  </thead>\n",
       "  <tbody>\n",
       "    <tr>\n",
       "      <th>1985-01-01</th>\n",
       "      <td>2023-09-08</td>\n",
       "      <td>2023-09-08</td>\n",
       "      <td>8.35</td>\n",
       "    </tr>\n",
       "    <tr>\n",
       "      <th>1985-02-01</th>\n",
       "      <td>2023-09-08</td>\n",
       "      <td>2023-09-08</td>\n",
       "      <td>8.50</td>\n",
       "    </tr>\n",
       "    <tr>\n",
       "      <th>1985-03-01</th>\n",
       "      <td>2023-09-08</td>\n",
       "      <td>2023-09-08</td>\n",
       "      <td>8.58</td>\n",
       "    </tr>\n",
       "    <tr>\n",
       "      <th>1985-04-01</th>\n",
       "      <td>2023-09-08</td>\n",
       "      <td>2023-09-08</td>\n",
       "      <td>8.27</td>\n",
       "    </tr>\n",
       "    <tr>\n",
       "      <th>1985-05-01</th>\n",
       "      <td>2023-09-08</td>\n",
       "      <td>2023-09-08</td>\n",
       "      <td>7.97</td>\n",
       "    </tr>\n",
       "    <tr>\n",
       "      <th>...</th>\n",
       "      <td>...</td>\n",
       "      <td>...</td>\n",
       "      <td>...</td>\n",
       "    </tr>\n",
       "    <tr>\n",
       "      <th>2023-04-01</th>\n",
       "      <td>2023-09-08</td>\n",
       "      <td>2023-09-08</td>\n",
       "      <td>4.83</td>\n",
       "    </tr>\n",
       "    <tr>\n",
       "      <th>2023-05-01</th>\n",
       "      <td>2023-09-08</td>\n",
       "      <td>2023-09-08</td>\n",
       "      <td>5.06</td>\n",
       "    </tr>\n",
       "    <tr>\n",
       "      <th>2023-06-01</th>\n",
       "      <td>2023-09-08</td>\n",
       "      <td>2023-09-08</td>\n",
       "      <td>5.08</td>\n",
       "    </tr>\n",
       "    <tr>\n",
       "      <th>2023-07-01</th>\n",
       "      <td>2023-09-08</td>\n",
       "      <td>2023-09-08</td>\n",
       "      <td>5.12</td>\n",
       "    </tr>\n",
       "    <tr>\n",
       "      <th>2023-08-01</th>\n",
       "      <td>2023-09-08</td>\n",
       "      <td>2023-09-08</td>\n",
       "      <td>5.33</td>\n",
       "    </tr>\n",
       "  </tbody>\n",
       "</table>\n",
       "<p>464 rows × 3 columns</p>\n",
       "</div>"
      ],
      "text/plain": [
       "           realtime_start realtime_end  value\n",
       "date                                         \n",
       "1985-01-01     2023-09-08   2023-09-08   8.35\n",
       "1985-02-01     2023-09-08   2023-09-08   8.50\n",
       "1985-03-01     2023-09-08   2023-09-08   8.58\n",
       "1985-04-01     2023-09-08   2023-09-08   8.27\n",
       "1985-05-01     2023-09-08   2023-09-08   7.97\n",
       "...                   ...          ...    ...\n",
       "2023-04-01     2023-09-08   2023-09-08   4.83\n",
       "2023-05-01     2023-09-08   2023-09-08   5.06\n",
       "2023-06-01     2023-09-08   2023-09-08   5.08\n",
       "2023-07-01     2023-09-08   2023-09-08   5.12\n",
       "2023-08-01     2023-09-08   2023-09-08   5.33\n",
       "\n",
       "[464 rows x 3 columns]"
      ]
     },
     "execution_count": 81,
     "metadata": {},
     "output_type": "execute_result"
    }
   ],
   "source": [
    "interest_rates.loc['1985-01-01':]"
   ]
  },
  {
   "cell_type": "markdown",
   "id": "153d9a97",
   "metadata": {},
   "source": [
    "#### plt.figure(figsize = (12,6), dpi = 200)\n",
    "sns.lineplot(x = capital_intensity.iloc['1985-01-01':].index, y = capital_intensity.iloc['1985-01-01':]['value'], label = 'capital intensity');\n",
    "sns.lineplot(x = interest_rates.iloc['1985-01-01':].index, y = interest_rates.iloc['1985-01-01':]['value'], label = 'interest rates');\n",
    "plt.title('Private Sector Capital Intensity Over Time');\n",
    "plt.legend();"
   ]
  },
  {
   "cell_type": "markdown",
   "id": "379a0214",
   "metadata": {},
   "source": [
    "    GDP ✓\n",
    "    Potential GDP ✓\n",
    "    Real Gross National Product (need to research) ✓\n",
    "    Inflation ✓\n",
    "    Core inflation ✓\n",
    "    Unemployment ✓\n",
    "    Productivity ✓\n",
    "    Private-sector capital intensity ✓"
   ]
  },
  {
   "cell_type": "markdown",
   "id": "22669293",
   "metadata": {},
   "source": [
    "________\n",
    "Importing beige book data"
   ]
  },
  {
   "cell_type": "markdown",
   "id": "3298090f",
   "metadata": {},
   "source": [
    "Issues:\n",
    "* I need to iterate through a large number of URLs in order to access archived transcripts\n",
    "* The way the URL is formatted has changed over time:\n",
    "    Current format: https://www.federalreserve.gov/monetarypolicy/beigebook201701.htm\n",
    "    Old format: https://www.federalreserve.gov/fomc/beigebook/1996/19961030/default.htm\n",
    "   \n",
    "This is the archive of all transcripts, so maybe I can use the HTML to iterate through similar to the reddit api:\n",
    "https://www.federalreserve.gov/monetarypolicy/beige-book-archive.htm"
   ]
  },
  {
   "cell_type": "markdown",
   "id": "cb0fa4a6",
   "metadata": {},
   "source": [
    "**Possible solution:**\n",
    "The Minneapolis FED has a better website with a more consistent format:\n",
    "    https://www.minneapolisfed.org/beige-book-reports/2010/2010-12-su\n",
    "    \n",
    "This would also make seperating the different branches into different features, along with east coast / west coast, top 3 cities, etc. possible"
   ]
  },
  {
   "cell_type": "code",
   "execution_count": 29,
   "id": "d7703b2b",
   "metadata": {},
   "outputs": [],
   "source": [
    "url = \"https://www.federalreserve.gov/monetarypolicy/beigebook202301-summary.htm\"\n",
    "response = requests.get(url)\n",
    "\n",
    "if response.status_code == 200:\n",
    "    soup = BeautifulSoup(response.text, \"html.parser\")\n",
    "    text_data = soup.get_text()"
   ]
  },
  {
   "cell_type": "code",
   "execution_count": 30,
   "id": "e74cfdcb",
   "metadata": {},
   "outputs": [],
   "source": [
    "#text_data"
   ]
  },
  {
   "cell_type": "code",
   "execution_count": 31,
   "id": "8ff3824e",
   "metadata": {},
   "outputs": [],
   "source": [
    "text_data = re.sub(r'\\n+', ' ', text_data)\n",
    "#text_data"
   ]
  },
  {
   "cell_type": "code",
   "execution_count": 32,
   "id": "709740a3",
   "metadata": {},
   "outputs": [],
   "source": [
    "text_data = re.sub(r'\\r+', '', text_data)\n",
    "#text_data"
   ]
  },
  {
   "cell_type": "code",
   "execution_count": 33,
   "id": "48fcf4d1",
   "metadata": {},
   "outputs": [
    {
     "data": {
      "text/plain": [
       "\" Overall Economic Activity Overall economic activity was relatively unchanged since the previous report. Five Districts reported slight or modest increases in overall activity, six noted no change or slight declines, and one cited a significant decline. On balance, contacts generally expected little growth in the months ahead. Consumer spending increased slightly, with some retailers reporting more robust sales over the holidays. Other retailers noted that high inflation continued to reduce consumers' purchasing power, particularly among low- and moderate-income households. Auto sales were flat on average, but some dealers noted that increased vehicle availability had boosted sales. Tourism contacts reported moderate to robust activity augmented by strong holiday travel. Manufacturers indicated that activity declined modestly on average, and, in many Districts, reported that supply chain disruptions had eased. Housing markets continued to weaken, with sales and construction declining across Districts. Commercial real estate activity slowed slightly, on average, with more notable weakening in the office market. Nonfinancial services firms experienced stable demand on balance. Most bankers reported that residential mortgage demand remained weak, and some said higher borrowing costs had begun to dampen commercial lending. Energy activity continued to increase moderately, and agriculture conditions were generally unchanged or improving. Labor Markets Employment continued to grow at a modest to moderate pace for most Districts. Only one District reported a slight decline in employment, and one other reported no change in employment levels. While some Districts noted that labor availability had increased, firms continued to report difficulty in filling open positions. Many firms hesitated to lay off employees even as demand for their goods and services slowed and planned to reduce headcount through attrition if needed. With persistently tight labor markets, wage pressures remained elevated across Districts, though five Reserve Banks reported that these pressures had eased somewhat. Some employers noted they have continued to offer bonuses and enhanced benefits to attract and retain workers. Prices Selling prices increased at a modest or moderate pace in most Districts, though many said that the pace of increases had slowed from that of recent reporting periods. Manufacturers in many Districts reported continued easing in freight costs and prices for commodities, including steel and lumber, though some said input costs remained elevated. Many retailers noted increased difficulty in passing through cost increases, suggesting greater price sensitivity on the part of consumers. In addition, some retailers offered more discounts and promotions than they had a year ago in order to move merchandise and clear out excess inventories. On balance, contacts across Districts said they expected future price growth to moderate further in the year ahead. Highlights by Federal Reserve District  Boston Business activity was roughly flat, and employment increased moderately amid seasonal hiring. Prices increased modestly as nonlabor cost pressures eased. Wage growth was above average despite easier hiring conditions. Tourism activity posted strong gains, while home sales continued to fall. The outlook was mostly stable but worsened slightly amid real estate contacts. New York  Economic activity contracted, led by an especially sharp decline in the manufacturing sector. Job growth slowed and labor shortages eased somewhat, but hiring plans remained fairly solid. Wage growth remained modest, while the pace of input and selling price increases slowed. Housing markets continued to cool, and loan demand fell. Philadelphia Business activity appeared to decline slightly during the current Beige Book period after holding steady for six months. Wage and price inflation continued to subside but still grew at a moderate pace. Employment continued to rise slightly, although hiring plans grew more cautious. Current sentiment fell, but expectations improved. Cleveland The District's economy slowed slightly as 2022 drew to a close amid high interest rates and elevated costs and selling prices. However, the share of contacts reporting higher costs or selling prices declined noticeably from the middle of 2022. Looking ahead, firms expect softer conditions to persist in the near term but still plan to add workers to meet existing and expected demand for their goods and services. Richmond The regional economy continued to grow at a slight pace, due in large part to moderate growth in consumer spending as manufacturing, transportation, real estate, and lending activity slowed. Employment rose more modestly this period compared to recent months and some firms noted hitting limits on wage increases. Price growth remained elevated in recent weeks. Atlanta Economic activity grew at a gradual pace. Labor market tightness eased, but wage pressures persisted. Most nonlabor costs moderated. Retailers reported healthy holiday sales. Auto sales rose. Leisure travel was robust. Housing demand fell. Transportation conditions weakened. Overall loan growth was steady, but deposit growth slowed. Agriculture remained mixed. Chicago Economic activity decreased slightly. Employment increased moderately; consumer and business spending were unchanged; nonbusiness contacts saw little change in activity; manufacturing decreased modestly; and construction and real estate decreased moderately. Prices and wages rose moderately, while financial conditions tightened some. Agriculture incomes were strong in 2022. St. Louis Economic conditions have remained unchanged since our previous report. Labor shortages remained a key issue, though more contacts reported a slightly easier time hiring and retaining workers. The rate of input price increases slowed, and contacts reported improvements in shipping costs and delivery times. Consumer spending and travel were both mixed during the holiday season. Minneapolis Economic activity in the region expanded slightly in recent weeks. Employment grew modestly, with labor demand softening but still healthy. Wage and price pressures remained high but lessened slightly. Holiday shopping was good overall but stymied somewhat by severe winter weather. Construction and real estate sectors continued to struggle. Inflation and high labor costs were hurting minority- and women-owned firms. Kansas City Economic activity in the Tenth District continued to decline slightly through the end of 2022. Though labor demand cooled further, contacts reported ongoing tightness and persistent wage pressures. Consumer spending declined recently, particularly for retailers and restaurants. Across goods and services, price growth slowed to a moderate, yet still-brisk, pace. Energy activity slowed modestly, facing headwinds from falling oil and gas prices. Dallas Modest economic growth continued, with an acceleration in the manufacturing sector but an abatement in the service sector. Retail sales and home sales fell further, while oil and gas activity expanded. Employment growth continued and wage and price growth stayed elevated. Outlooks were mostly pessimistic except for the energy sector, and many contacts voiced concern about weakened demand, a potential recession, and inflation. San Francisco Economic activity expanded modestly. Employment levels grew at a modest pace as labor supply improved. Wages and prices remained elevated but rose at a slower pace relative to the previous reporting period. Demand for retail goods and services was stable. Manufacturing activity was mixed, while conditions in the agriculture sector remained weak. Residential real estate activity weakened, and lending activity rose slightly. \""
      ]
     },
     "execution_count": 33,
     "metadata": {},
     "output_type": "execute_result"
    }
   ],
   "source": [
    "url = \"https://www.federalreserve.gov/monetarypolicy/beigebook202301-summary.htm\"\n",
    "response = requests.get(url)\n",
    "\n",
    "if response.status_code == 200:\n",
    "    soup = BeautifulSoup(response.text, \"html.parser\")\n",
    "    text_data = soup.get_text()\n",
    "    \n",
    "text_data = re.sub(r'\\n+', ' ', text_data)\n",
    "text_data = re.sub(r'\\r+', '', text_data)\n",
    "text_data = text_data.split('National Summary')\n",
    "text_data = text_data[2]\n",
    "text_data = text_data.split('Back to Top')\n",
    "national_summary = text_data[0]\n",
    "national_summary"
   ]
  },
  {
   "cell_type": "code",
   "execution_count": 34,
   "id": "9f918ee6",
   "metadata": {},
   "outputs": [],
   "source": [
    "url = \"https://www.federalreserve.gov/monetarypolicy/beigebook202301-summary.htm\"\n",
    "response = requests.get(url)\n",
    "\n",
    "if response.status_code == 200:\n",
    "    soup = BeautifulSoup(response.text, \"html.parser\")\n",
    "    text_data = soup.get_text()\n",
    "    \n",
    "text_data = re.sub(r'\\n+', ' ', text_data)\n",
    "text_data = re.sub(r'\\r+', '', text_data)\n",
    "text_data = text_data.split('National Summary')\n",
    "text_data = text_data[2]\n",
    "text_data = text_data.split('Back to Top')\n",
    "national_summary = text_data[0]\n",
    "\n",
    "# labor_markets\n",
    "labor_markets = national_summary.split('Labor Markets')\n",
    "labor_markets = labor_markets[1]\n",
    "\n",
    "# prices\n",
    "# prices = national_summary.split('Prices')\n",
    "# prices = prices[1]\n",
    "# prices"
   ]
  },
  {
   "cell_type": "code",
   "execution_count": null,
   "id": "55933bde",
   "metadata": {},
   "outputs": [],
   "source": [
    "def report_scraper(start_year, end_year):\n",
    "    for y in range(start_year)"
   ]
  }
 ],
 "metadata": {
  "kernelspec": {
   "display_name": "Python 3 (ipykernel)",
   "language": "python",
   "name": "python3"
  },
  "language_info": {
   "codemirror_mode": {
    "name": "ipython",
    "version": 3
   },
   "file_extension": ".py",
   "mimetype": "text/x-python",
   "name": "python",
   "nbconvert_exporter": "python",
   "pygments_lexer": "ipython3",
   "version": "3.8.0"
  }
 },
 "nbformat": 4,
 "nbformat_minor": 5
}
