{
 "cells": [
  {
   "cell_type": "markdown",
   "id": "17abadba",
   "metadata": {},
   "source": [
    "https://github.com/7astro7/full_fred"
   ]
  },
  {
   "cell_type": "code",
   "execution_count": 232,
   "id": "4466a1de",
   "metadata": {},
   "outputs": [],
   "source": [
    "import numpy as np\n",
    "import pandas as pd\n",
    "import matplotlib.pyplot as plt\n",
    "import seaborn as sns\n",
    "\n",
    "from full_fred.fred import Fred\n",
    "import datetime as dt\n",
    "import requests\n",
    "from bs4 import BeautifulSoup\n",
    "import re"
   ]
  },
  {
   "cell_type": "code",
   "execution_count": 192,
   "id": "8be41079",
   "metadata": {},
   "outputs": [
    {
     "data": {
      "text/plain": [
       "'../data/api_key'"
      ]
     },
     "execution_count": 192,
     "metadata": {},
     "output_type": "execute_result"
    }
   ],
   "source": [
    "fred = Fred('../data/api_key')\n",
    "fred.get_api_key_file()"
   ]
  },
  {
   "cell_type": "code",
   "execution_count": 193,
   "id": "00d42670",
   "metadata": {},
   "outputs": [
    {
     "data": {
      "text/plain": [
       "{'categories': [{'id': 32991,\n",
       "   'name': 'Money, Banking, & Finance',\n",
       "   'parent_id': 0},\n",
       "  {'id': 10,\n",
       "   'name': 'Population, Employment, & Labor Markets',\n",
       "   'parent_id': 0},\n",
       "  {'id': 32992, 'name': 'National Accounts', 'parent_id': 0},\n",
       "  {'id': 1, 'name': 'Production & Business Activity', 'parent_id': 0},\n",
       "  {'id': 32455, 'name': 'Prices', 'parent_id': 0},\n",
       "  {'id': 32263, 'name': 'International Data', 'parent_id': 0},\n",
       "  {'id': 3008, 'name': 'U.S. Regional Data', 'parent_id': 0},\n",
       "  {'id': 33060, 'name': 'Academic Data', 'parent_id': 0}]}"
      ]
     },
     "execution_count": 193,
     "metadata": {},
     "output_type": "execute_result"
    }
   ],
   "source": [
    "fred.get_child_categories(0)"
   ]
  },
  {
   "cell_type": "code",
   "execution_count": 194,
   "id": "41a8ae45",
   "metadata": {},
   "outputs": [
    {
     "data": {
      "text/html": [
       "<div>\n",
       "<style scoped>\n",
       "    .dataframe tbody tr th:only-of-type {\n",
       "        vertical-align: middle;\n",
       "    }\n",
       "\n",
       "    .dataframe tbody tr th {\n",
       "        vertical-align: top;\n",
       "    }\n",
       "\n",
       "    .dataframe thead th {\n",
       "        text-align: right;\n",
       "    }\n",
       "</style>\n",
       "<table border=\"1\" class=\"dataframe\">\n",
       "  <thead>\n",
       "    <tr style=\"text-align: right;\">\n",
       "      <th></th>\n",
       "      <th>realtime_start</th>\n",
       "      <th>realtime_end</th>\n",
       "      <th>date</th>\n",
       "      <th>value</th>\n",
       "    </tr>\n",
       "  </thead>\n",
       "  <tbody>\n",
       "    <tr>\n",
       "      <th>4</th>\n",
       "      <td>2023-09-07</td>\n",
       "      <td>2023-09-07</td>\n",
       "      <td>1950-01-01</td>\n",
       "      <td>2218.5665855133384</td>\n",
       "    </tr>\n",
       "    <tr>\n",
       "      <th>5</th>\n",
       "      <td>2023-09-07</td>\n",
       "      <td>2023-09-07</td>\n",
       "      <td>1950-04-01</td>\n",
       "      <td>2248.1618216748607</td>\n",
       "    </tr>\n",
       "    <tr>\n",
       "      <th>6</th>\n",
       "      <td>2023-09-07</td>\n",
       "      <td>2023-09-07</td>\n",
       "      <td>1950-07-01</td>\n",
       "      <td>2277.0496823235985</td>\n",
       "    </tr>\n",
       "    <tr>\n",
       "      <th>7</th>\n",
       "      <td>2023-09-07</td>\n",
       "      <td>2023-09-07</td>\n",
       "      <td>1950-10-01</td>\n",
       "      <td>2306.715167343248</td>\n",
       "    </tr>\n",
       "    <tr>\n",
       "      <th>8</th>\n",
       "      <td>2023-09-07</td>\n",
       "      <td>2023-09-07</td>\n",
       "      <td>1951-01-01</td>\n",
       "      <td>2336.504742120727</td>\n",
       "    </tr>\n",
       "    <tr>\n",
       "      <th>...</th>\n",
       "      <td>...</td>\n",
       "      <td>...</td>\n",
       "      <td>...</td>\n",
       "      <td>...</td>\n",
       "    </tr>\n",
       "    <tr>\n",
       "      <th>303</th>\n",
       "      <td>2023-09-07</td>\n",
       "      <td>2023-09-07</td>\n",
       "      <td>2024-10-01</td>\n",
       "      <td>21052.3</td>\n",
       "    </tr>\n",
       "    <tr>\n",
       "      <th>304</th>\n",
       "      <td>2023-09-07</td>\n",
       "      <td>2023-09-07</td>\n",
       "      <td>2025-01-01</td>\n",
       "      <td>21143.69</td>\n",
       "    </tr>\n",
       "    <tr>\n",
       "      <th>305</th>\n",
       "      <td>2023-09-07</td>\n",
       "      <td>2023-09-07</td>\n",
       "      <td>2025-04-01</td>\n",
       "      <td>21235.79</td>\n",
       "    </tr>\n",
       "    <tr>\n",
       "      <th>306</th>\n",
       "      <td>2023-09-07</td>\n",
       "      <td>2023-09-07</td>\n",
       "      <td>2025-07-01</td>\n",
       "      <td>21329.03</td>\n",
       "    </tr>\n",
       "    <tr>\n",
       "      <th>307</th>\n",
       "      <td>2023-09-07</td>\n",
       "      <td>2023-09-07</td>\n",
       "      <td>2025-10-01</td>\n",
       "      <td>21423.29</td>\n",
       "    </tr>\n",
       "  </tbody>\n",
       "</table>\n",
       "<p>304 rows × 4 columns</p>\n",
       "</div>"
      ],
      "text/plain": [
       "    realtime_start realtime_end        date               value\n",
       "4       2023-09-07   2023-09-07  1950-01-01  2218.5665855133384\n",
       "5       2023-09-07   2023-09-07  1950-04-01  2248.1618216748607\n",
       "6       2023-09-07   2023-09-07  1950-07-01  2277.0496823235985\n",
       "7       2023-09-07   2023-09-07  1950-10-01   2306.715167343248\n",
       "8       2023-09-07   2023-09-07  1951-01-01   2336.504742120727\n",
       "..             ...          ...         ...                 ...\n",
       "303     2023-09-07   2023-09-07  2024-10-01             21052.3\n",
       "304     2023-09-07   2023-09-07  2025-01-01            21143.69\n",
       "305     2023-09-07   2023-09-07  2025-04-01            21235.79\n",
       "306     2023-09-07   2023-09-07  2025-07-01            21329.03\n",
       "307     2023-09-07   2023-09-07  2025-10-01            21423.29\n",
       "\n",
       "[304 rows x 4 columns]"
      ]
     },
     "execution_count": 194,
     "metadata": {},
     "output_type": "execute_result"
    }
   ],
   "source": [
    "test = fred.get_series_df('GDPPOT')\n",
    "test[test['value'] != '.']"
   ]
  },
  {
   "cell_type": "code",
   "execution_count": 195,
   "id": "5f9c6caf",
   "metadata": {},
   "outputs": [
    {
     "data": {
      "text/plain": [
       "340"
      ]
     },
     "execution_count": 195,
     "metadata": {},
     "output_type": "execute_result"
    }
   ],
   "source": [
    "len(test)"
   ]
  },
  {
   "cell_type": "code",
   "execution_count": 196,
   "id": "bd4510fe",
   "metadata": {},
   "outputs": [
    {
     "data": {
      "text/plain": [
       "dict_keys(['get_series_df'])"
      ]
     },
     "execution_count": 196,
     "metadata": {},
     "output_type": "execute_result"
    }
   ],
   "source": [
    "fred.series_stack.keys()"
   ]
  },
  {
   "cell_type": "code",
   "execution_count": 197,
   "id": "e3b96ef8",
   "metadata": {},
   "outputs": [
    {
     "data": {
      "text/plain": [
       "dict_keys([])"
      ]
     },
     "execution_count": 197,
     "metadata": {},
     "output_type": "execute_result"
    }
   ],
   "source": [
    "fred.release_stack.keys()"
   ]
  },
  {
   "cell_type": "code",
   "execution_count": 198,
   "id": "e20d38c3",
   "metadata": {},
   "outputs": [
    {
     "data": {
      "text/plain": [
       "[{'id': 32991, 'name': 'Money, Banking, & Finance', 'parent_id': 0},\n",
       " {'id': 10, 'name': 'Population, Employment, & Labor Markets', 'parent_id': 0},\n",
       " {'id': 32992, 'name': 'National Accounts', 'parent_id': 0},\n",
       " {'id': 1, 'name': 'Production & Business Activity', 'parent_id': 0},\n",
       " {'id': 32455, 'name': 'Prices', 'parent_id': 0},\n",
       " {'id': 32263, 'name': 'International Data', 'parent_id': 0},\n",
       " {'id': 3008, 'name': 'U.S. Regional Data', 'parent_id': 0},\n",
       " {'id': 33060, 'name': 'Academic Data', 'parent_id': 0}]"
      ]
     },
     "execution_count": 198,
     "metadata": {},
     "output_type": "execute_result"
    }
   ],
   "source": [
    "fred.get_child_categories(0)['categories']"
   ]
  },
  {
   "cell_type": "code",
   "execution_count": 199,
   "id": "4088123c",
   "metadata": {},
   "outputs": [
    {
     "data": {
      "text/plain": [
       "{'categories': [{'id': 32991,\n",
       "   'name': 'Money, Banking, & Finance',\n",
       "   'parent_id': 0},\n",
       "  {'id': 10,\n",
       "   'name': 'Population, Employment, & Labor Markets',\n",
       "   'parent_id': 0},\n",
       "  {'id': 32992, 'name': 'National Accounts', 'parent_id': 0},\n",
       "  {'id': 1, 'name': 'Production & Business Activity', 'parent_id': 0},\n",
       "  {'id': 32455, 'name': 'Prices', 'parent_id': 0},\n",
       "  {'id': 32263, 'name': 'International Data', 'parent_id': 0},\n",
       "  {'id': 3008, 'name': 'U.S. Regional Data', 'parent_id': 0},\n",
       "  {'id': 33060, 'name': 'Academic Data', 'parent_id': 0}]}"
      ]
     },
     "execution_count": 199,
     "metadata": {},
     "output_type": "execute_result"
    }
   ],
   "source": [
    "fred.category_stack['get_child_categories']"
   ]
  },
  {
   "cell_type": "code",
   "execution_count": 200,
   "id": "1fd6b695",
   "metadata": {},
   "outputs": [
    {
     "ename": "KeyError",
     "evalue": "'get_all_sources'",
     "output_type": "error",
     "traceback": [
      "\u001b[1;31m---------------------------------------------------------------------------\u001b[0m",
      "\u001b[1;31mKeyError\u001b[0m                                  Traceback (most recent call last)",
      "Cell \u001b[1;32mIn[200], line 1\u001b[0m\n\u001b[1;32m----> 1\u001b[0m \u001b[43mfred\u001b[49m\u001b[38;5;241;43m.\u001b[39;49m\u001b[43msource_stack\u001b[49m\u001b[43m[\u001b[49m\u001b[38;5;124;43m'\u001b[39;49m\u001b[38;5;124;43mget_all_sources\u001b[39;49m\u001b[38;5;124;43m'\u001b[39;49m\u001b[43m]\u001b[49m\n",
      "\u001b[1;31mKeyError\u001b[0m: 'get_all_sources'"
     ]
    }
   ],
   "source": [
    "fred.source_stack['get_all_sources']"
   ]
  },
  {
   "cell_type": "code",
   "execution_count": 201,
   "id": "fb447276",
   "metadata": {},
   "outputs": [
    {
     "data": {
      "text/html": [
       "<div>\n",
       "<style scoped>\n",
       "    .dataframe tbody tr th:only-of-type {\n",
       "        vertical-align: middle;\n",
       "    }\n",
       "\n",
       "    .dataframe tbody tr th {\n",
       "        vertical-align: top;\n",
       "    }\n",
       "\n",
       "    .dataframe thead th {\n",
       "        text-align: right;\n",
       "    }\n",
       "</style>\n",
       "<table border=\"1\" class=\"dataframe\">\n",
       "  <thead>\n",
       "    <tr style=\"text-align: right;\">\n",
       "      <th></th>\n",
       "      <th>realtime_start</th>\n",
       "      <th>realtime_end</th>\n",
       "      <th>date</th>\n",
       "      <th>value</th>\n",
       "    </tr>\n",
       "  </thead>\n",
       "  <tbody>\n",
       "    <tr>\n",
       "      <th>0</th>\n",
       "      <td>2023-09-07</td>\n",
       "      <td>2023-09-07</td>\n",
       "      <td>1929-01-01</td>\n",
       "      <td>1120.718</td>\n",
       "    </tr>\n",
       "    <tr>\n",
       "      <th>1</th>\n",
       "      <td>2023-09-07</td>\n",
       "      <td>2023-09-07</td>\n",
       "      <td>1930-01-01</td>\n",
       "      <td>1025.678</td>\n",
       "    </tr>\n",
       "    <tr>\n",
       "      <th>2</th>\n",
       "      <td>2023-09-07</td>\n",
       "      <td>2023-09-07</td>\n",
       "      <td>1931-01-01</td>\n",
       "      <td>958.927</td>\n",
       "    </tr>\n",
       "    <tr>\n",
       "      <th>3</th>\n",
       "      <td>2023-09-07</td>\n",
       "      <td>2023-09-07</td>\n",
       "      <td>1932-01-01</td>\n",
       "      <td>834.769</td>\n",
       "    </tr>\n",
       "    <tr>\n",
       "      <th>4</th>\n",
       "      <td>2023-09-07</td>\n",
       "      <td>2023-09-07</td>\n",
       "      <td>1933-01-01</td>\n",
       "      <td>823.628</td>\n",
       "    </tr>\n",
       "    <tr>\n",
       "      <th>...</th>\n",
       "      <td>...</td>\n",
       "      <td>...</td>\n",
       "      <td>...</td>\n",
       "      <td>...</td>\n",
       "    </tr>\n",
       "    <tr>\n",
       "      <th>89</th>\n",
       "      <td>2023-09-07</td>\n",
       "      <td>2023-09-07</td>\n",
       "      <td>2018-01-01</td>\n",
       "      <td>18874.78</td>\n",
       "    </tr>\n",
       "    <tr>\n",
       "      <th>90</th>\n",
       "      <td>2023-09-07</td>\n",
       "      <td>2023-09-07</td>\n",
       "      <td>2019-01-01</td>\n",
       "      <td>19286.841</td>\n",
       "    </tr>\n",
       "    <tr>\n",
       "      <th>91</th>\n",
       "      <td>2023-09-07</td>\n",
       "      <td>2023-09-07</td>\n",
       "      <td>2020-01-01</td>\n",
       "      <td>18685.401</td>\n",
       "    </tr>\n",
       "    <tr>\n",
       "      <th>92</th>\n",
       "      <td>2023-09-07</td>\n",
       "      <td>2023-09-07</td>\n",
       "      <td>2021-01-01</td>\n",
       "      <td>19759.327</td>\n",
       "    </tr>\n",
       "    <tr>\n",
       "      <th>93</th>\n",
       "      <td>2023-09-07</td>\n",
       "      <td>2023-09-07</td>\n",
       "      <td>2022-01-01</td>\n",
       "      <td>20158.225</td>\n",
       "    </tr>\n",
       "  </tbody>\n",
       "</table>\n",
       "<p>94 rows × 4 columns</p>\n",
       "</div>"
      ],
      "text/plain": [
       "   realtime_start realtime_end        date      value\n",
       "0      2023-09-07   2023-09-07  1929-01-01   1120.718\n",
       "1      2023-09-07   2023-09-07  1930-01-01   1025.678\n",
       "2      2023-09-07   2023-09-07  1931-01-01    958.927\n",
       "3      2023-09-07   2023-09-07  1932-01-01    834.769\n",
       "4      2023-09-07   2023-09-07  1933-01-01    823.628\n",
       "..            ...          ...         ...        ...\n",
       "89     2023-09-07   2023-09-07  2018-01-01   18874.78\n",
       "90     2023-09-07   2023-09-07  2019-01-01  19286.841\n",
       "91     2023-09-07   2023-09-07  2020-01-01  18685.401\n",
       "92     2023-09-07   2023-09-07  2021-01-01  19759.327\n",
       "93     2023-09-07   2023-09-07  2022-01-01  20158.225\n",
       "\n",
       "[94 rows x 4 columns]"
      ]
     },
     "execution_count": 201,
     "metadata": {},
     "output_type": "execute_result"
    }
   ],
   "source": [
    "test = fred.get_series_df('GNPCA')\n",
    "test[test['value'] != '.']"
   ]
  },
  {
   "cell_type": "code",
   "execution_count": 202,
   "id": "99898c46",
   "metadata": {},
   "outputs": [],
   "source": [
    "gnpca = fred.get_series_df('GNPCA')[['date', 'value']]"
   ]
  },
  {
   "cell_type": "code",
   "execution_count": 203,
   "id": "bf84c596",
   "metadata": {},
   "outputs": [],
   "source": [
    "gnpca.set_index('date', inplace = True)"
   ]
  },
  {
   "cell_type": "code",
   "execution_count": 204,
   "id": "36a27ff7",
   "metadata": {},
   "outputs": [],
   "source": [
    "gnpca.index = pd.to_datetime(gnpca.index)"
   ]
  },
  {
   "cell_type": "code",
   "execution_count": 205,
   "id": "e3e28407",
   "metadata": {},
   "outputs": [
    {
     "name": "stdout",
     "output_type": "stream",
     "text": [
      "<class 'pandas.core.frame.DataFrame'>\n",
      "DatetimeIndex: 94 entries, 1929-01-01 to 2022-01-01\n",
      "Data columns (total 1 columns):\n",
      " #   Column  Non-Null Count  Dtype \n",
      "---  ------  --------------  ----- \n",
      " 0   value   94 non-null     object\n",
      "dtypes: object(1)\n",
      "memory usage: 1.5+ KB\n"
     ]
    }
   ],
   "source": [
    "gnpca.info()"
   ]
  },
  {
   "cell_type": "code",
   "execution_count": 206,
   "id": "0d6f2bc6",
   "metadata": {},
   "outputs": [
    {
     "data": {
      "text/html": [
       "<div>\n",
       "<style scoped>\n",
       "    .dataframe tbody tr th:only-of-type {\n",
       "        vertical-align: middle;\n",
       "    }\n",
       "\n",
       "    .dataframe tbody tr th {\n",
       "        vertical-align: top;\n",
       "    }\n",
       "\n",
       "    .dataframe thead th {\n",
       "        text-align: right;\n",
       "    }\n",
       "</style>\n",
       "<table border=\"1\" class=\"dataframe\">\n",
       "  <thead>\n",
       "    <tr style=\"text-align: right;\">\n",
       "      <th></th>\n",
       "      <th>value</th>\n",
       "    </tr>\n",
       "    <tr>\n",
       "      <th>date</th>\n",
       "      <th></th>\n",
       "    </tr>\n",
       "  </thead>\n",
       "  <tbody>\n",
       "    <tr>\n",
       "      <th>1929-01-01</th>\n",
       "      <td>1120.718</td>\n",
       "    </tr>\n",
       "    <tr>\n",
       "      <th>1930-01-01</th>\n",
       "      <td>1025.678</td>\n",
       "    </tr>\n",
       "    <tr>\n",
       "      <th>1931-01-01</th>\n",
       "      <td>958.927</td>\n",
       "    </tr>\n",
       "    <tr>\n",
       "      <th>1932-01-01</th>\n",
       "      <td>834.769</td>\n",
       "    </tr>\n",
       "    <tr>\n",
       "      <th>1933-01-01</th>\n",
       "      <td>823.628</td>\n",
       "    </tr>\n",
       "  </tbody>\n",
       "</table>\n",
       "</div>"
      ],
      "text/plain": [
       "               value\n",
       "date                \n",
       "1929-01-01  1120.718\n",
       "1930-01-01  1025.678\n",
       "1931-01-01   958.927\n",
       "1932-01-01   834.769\n",
       "1933-01-01   823.628"
      ]
     },
     "execution_count": 206,
     "metadata": {},
     "output_type": "execute_result"
    }
   ],
   "source": [
    "gnpca.head()"
   ]
  },
  {
   "cell_type": "code",
   "execution_count": 207,
   "id": "4faebb4e",
   "metadata": {},
   "outputs": [
    {
     "data": {
      "text/plain": [
       "value    0\n",
       "dtype: int64"
      ]
     },
     "execution_count": 207,
     "metadata": {},
     "output_type": "execute_result"
    }
   ],
   "source": [
    "gnpca.isna().sum()"
   ]
  },
  {
   "cell_type": "code",
   "execution_count": 208,
   "id": "8022eba2",
   "metadata": {},
   "outputs": [
    {
     "name": "stderr",
     "output_type": "stream",
     "text": [
      "C:\\Users\\User\\AppData\\Local\\Temp\\ipykernel_696\\211970581.py:1: SettingWithCopyWarning: \n",
      "A value is trying to be set on a copy of a slice from a DataFrame.\n",
      "Try using .loc[row_indexer,col_indexer] = value instead\n",
      "\n",
      "See the caveats in the documentation: https://pandas.pydata.org/pandas-docs/stable/user_guide/indexing.html#returning-a-view-versus-a-copy\n",
      "  gnpca['value'] = gnpca['value'].astype(float)\n"
     ]
    }
   ],
   "source": [
    "gnpca['value'] = gnpca['value'].astype(float)"
   ]
  },
  {
   "cell_type": "code",
   "execution_count": 209,
   "id": "1bc2f880",
   "metadata": {},
   "outputs": [
    {
     "data": {
      "image/png": "[encoded data removed]",
      "text/plain": [
       "<Figure size 640x480 with 1 Axes>"
      ]
     },
     "metadata": {},
     "output_type": "display_data"
    }
   ],
   "source": [
    "sns.lineplot(x = gnpca.index, y = gnpca['value']);\n",
    "plt.yticks(range(0, int(max(gnpca['value'])) + 1000, 1000));"
   ]
  },
  {
   "cell_type": "code",
   "execution_count": 210,
   "id": "d85d243a",
   "metadata": {},
   "outputs": [
    {
     "name": "stderr",
     "output_type": "stream",
     "text": [
      "C:\\Users\\User\\AppData\\Local\\Temp\\ipykernel_696\\4166311938.py:6: SettingWithCopyWarning: \n",
      "A value is trying to be set on a copy of a slice from a DataFrame.\n",
      "Try using .loc[row_indexer,col_indexer] = value instead\n",
      "\n",
      "See the caveats in the documentation: https://pandas.pydata.org/pandas-docs/stable/user_guide/indexing.html#returning-a-view-versus-a-copy\n",
      "  metric['value'] = metric['value'].astype(float)\n"
     ]
    },
    {
     "data": {
      "image/png": "[encoded data removed]",
      "text/plain": [
       "<Figure size 640x480 with 1 Axes>"
      ]
     },
     "metadata": {},
     "output_type": "display_data"
    }
   ],
   "source": [
    "def ez_plotter(metric):\n",
    "        metric_literal = metric\n",
    "        metric = fred.get_series_df(metric)[['date', 'value']]\n",
    "        metric.set_index('date', inplace = True)\n",
    "        metric.index = pd.to_datetime(metric.index)\n",
    "        metric['value'] = metric['value'].astype(float)\n",
    "\n",
    "        sns.lineplot(x = metric.index, y = metric['value']);\n",
    "        plt.yticks(range(0, int(max(metric['value'])) + 1000, 1000));\n",
    "        plt.title(f\"{metric_literal} from {metric.index.year[0]} to {metric.index.year[-1]}\")\n",
    "    \n",
    "ez_plotter('gnpca')"
   ]
  },
  {
   "cell_type": "code",
   "execution_count": 211,
   "id": "53f8efba",
   "metadata": {},
   "outputs": [],
   "source": [
    "gdppot =  fred.get_series_df('GDPPOT')[['date', 'value']]"
   ]
  },
  {
   "cell_type": "code",
   "execution_count": 212,
   "id": "94912d4f",
   "metadata": {},
   "outputs": [
    {
     "data": {
      "text/html": [
       "<div>\n",
       "<style scoped>\n",
       "    .dataframe tbody tr th:only-of-type {\n",
       "        vertical-align: middle;\n",
       "    }\n",
       "\n",
       "    .dataframe tbody tr th {\n",
       "        vertical-align: top;\n",
       "    }\n",
       "\n",
       "    .dataframe thead th {\n",
       "        text-align: right;\n",
       "    }\n",
       "</style>\n",
       "<table border=\"1\" class=\"dataframe\">\n",
       "  <thead>\n",
       "    <tr style=\"text-align: right;\">\n",
       "      <th></th>\n",
       "      <th>date</th>\n",
       "      <th>value</th>\n",
       "    </tr>\n",
       "  </thead>\n",
       "  <tbody>\n",
       "    <tr>\n",
       "      <th>0</th>\n",
       "      <td>1949-01-01</td>\n",
       "      <td>.</td>\n",
       "    </tr>\n",
       "    <tr>\n",
       "      <th>1</th>\n",
       "      <td>1949-04-01</td>\n",
       "      <td>.</td>\n",
       "    </tr>\n",
       "    <tr>\n",
       "      <th>2</th>\n",
       "      <td>1949-07-01</td>\n",
       "      <td>.</td>\n",
       "    </tr>\n",
       "    <tr>\n",
       "      <th>3</th>\n",
       "      <td>1949-10-01</td>\n",
       "      <td>.</td>\n",
       "    </tr>\n",
       "    <tr>\n",
       "      <th>308</th>\n",
       "      <td>2026-01-01</td>\n",
       "      <td>.</td>\n",
       "    </tr>\n",
       "    <tr>\n",
       "      <th>309</th>\n",
       "      <td>2026-04-01</td>\n",
       "      <td>.</td>\n",
       "    </tr>\n",
       "    <tr>\n",
       "      <th>310</th>\n",
       "      <td>2026-07-01</td>\n",
       "      <td>.</td>\n",
       "    </tr>\n",
       "    <tr>\n",
       "      <th>311</th>\n",
       "      <td>2026-10-01</td>\n",
       "      <td>.</td>\n",
       "    </tr>\n",
       "    <tr>\n",
       "      <th>312</th>\n",
       "      <td>2027-01-01</td>\n",
       "      <td>.</td>\n",
       "    </tr>\n",
       "    <tr>\n",
       "      <th>313</th>\n",
       "      <td>2027-04-01</td>\n",
       "      <td>.</td>\n",
       "    </tr>\n",
       "    <tr>\n",
       "      <th>314</th>\n",
       "      <td>2027-07-01</td>\n",
       "      <td>.</td>\n",
       "    </tr>\n",
       "    <tr>\n",
       "      <th>315</th>\n",
       "      <td>2027-10-01</td>\n",
       "      <td>.</td>\n",
       "    </tr>\n",
       "    <tr>\n",
       "      <th>316</th>\n",
       "      <td>2028-01-01</td>\n",
       "      <td>.</td>\n",
       "    </tr>\n",
       "    <tr>\n",
       "      <th>317</th>\n",
       "      <td>2028-04-01</td>\n",
       "      <td>.</td>\n",
       "    </tr>\n",
       "    <tr>\n",
       "      <th>318</th>\n",
       "      <td>2028-07-01</td>\n",
       "      <td>.</td>\n",
       "    </tr>\n",
       "    <tr>\n",
       "      <th>319</th>\n",
       "      <td>2028-10-01</td>\n",
       "      <td>.</td>\n",
       "    </tr>\n",
       "    <tr>\n",
       "      <th>320</th>\n",
       "      <td>2029-01-01</td>\n",
       "      <td>.</td>\n",
       "    </tr>\n",
       "    <tr>\n",
       "      <th>321</th>\n",
       "      <td>2029-04-01</td>\n",
       "      <td>.</td>\n",
       "    </tr>\n",
       "    <tr>\n",
       "      <th>322</th>\n",
       "      <td>2029-07-01</td>\n",
       "      <td>.</td>\n",
       "    </tr>\n",
       "    <tr>\n",
       "      <th>323</th>\n",
       "      <td>2029-10-01</td>\n",
       "      <td>.</td>\n",
       "    </tr>\n",
       "    <tr>\n",
       "      <th>324</th>\n",
       "      <td>2030-01-01</td>\n",
       "      <td>.</td>\n",
       "    </tr>\n",
       "    <tr>\n",
       "      <th>325</th>\n",
       "      <td>2030-04-01</td>\n",
       "      <td>.</td>\n",
       "    </tr>\n",
       "    <tr>\n",
       "      <th>326</th>\n",
       "      <td>2030-07-01</td>\n",
       "      <td>.</td>\n",
       "    </tr>\n",
       "    <tr>\n",
       "      <th>327</th>\n",
       "      <td>2030-10-01</td>\n",
       "      <td>.</td>\n",
       "    </tr>\n",
       "    <tr>\n",
       "      <th>328</th>\n",
       "      <td>2031-01-01</td>\n",
       "      <td>.</td>\n",
       "    </tr>\n",
       "    <tr>\n",
       "      <th>329</th>\n",
       "      <td>2031-04-01</td>\n",
       "      <td>.</td>\n",
       "    </tr>\n",
       "    <tr>\n",
       "      <th>330</th>\n",
       "      <td>2031-07-01</td>\n",
       "      <td>.</td>\n",
       "    </tr>\n",
       "    <tr>\n",
       "      <th>331</th>\n",
       "      <td>2031-10-01</td>\n",
       "      <td>.</td>\n",
       "    </tr>\n",
       "    <tr>\n",
       "      <th>332</th>\n",
       "      <td>2032-01-01</td>\n",
       "      <td>.</td>\n",
       "    </tr>\n",
       "    <tr>\n",
       "      <th>333</th>\n",
       "      <td>2032-04-01</td>\n",
       "      <td>.</td>\n",
       "    </tr>\n",
       "    <tr>\n",
       "      <th>334</th>\n",
       "      <td>2032-07-01</td>\n",
       "      <td>.</td>\n",
       "    </tr>\n",
       "    <tr>\n",
       "      <th>335</th>\n",
       "      <td>2032-10-01</td>\n",
       "      <td>.</td>\n",
       "    </tr>\n",
       "    <tr>\n",
       "      <th>336</th>\n",
       "      <td>2033-01-01</td>\n",
       "      <td>.</td>\n",
       "    </tr>\n",
       "    <tr>\n",
       "      <th>337</th>\n",
       "      <td>2033-04-01</td>\n",
       "      <td>.</td>\n",
       "    </tr>\n",
       "    <tr>\n",
       "      <th>338</th>\n",
       "      <td>2033-07-01</td>\n",
       "      <td>.</td>\n",
       "    </tr>\n",
       "    <tr>\n",
       "      <th>339</th>\n",
       "      <td>2033-10-01</td>\n",
       "      <td>.</td>\n",
       "    </tr>\n",
       "  </tbody>\n",
       "</table>\n",
       "</div>"
      ],
      "text/plain": [
       "           date value\n",
       "0    1949-01-01     .\n",
       "1    1949-04-01     .\n",
       "2    1949-07-01     .\n",
       "3    1949-10-01     .\n",
       "308  2026-01-01     .\n",
       "309  2026-04-01     .\n",
       "310  2026-07-01     .\n",
       "311  2026-10-01     .\n",
       "312  2027-01-01     .\n",
       "313  2027-04-01     .\n",
       "314  2027-07-01     .\n",
       "315  2027-10-01     .\n",
       "316  2028-01-01     .\n",
       "317  2028-04-01     .\n",
       "318  2028-07-01     .\n",
       "319  2028-10-01     .\n",
       "320  2029-01-01     .\n",
       "321  2029-04-01     .\n",
       "322  2029-07-01     .\n",
       "323  2029-10-01     .\n",
       "324  2030-01-01     .\n",
       "325  2030-04-01     .\n",
       "326  2030-07-01     .\n",
       "327  2030-10-01     .\n",
       "328  2031-01-01     .\n",
       "329  2031-04-01     .\n",
       "330  2031-07-01     .\n",
       "331  2031-10-01     .\n",
       "332  2032-01-01     .\n",
       "333  2032-04-01     .\n",
       "334  2032-07-01     .\n",
       "335  2032-10-01     .\n",
       "336  2033-01-01     .\n",
       "337  2033-04-01     .\n",
       "338  2033-07-01     .\n",
       "339  2033-10-01     ."
      ]
     },
     "execution_count": 212,
     "metadata": {},
     "output_type": "execute_result"
    }
   ],
   "source": [
    "gdppot[gdppot['value'] ==  '.']"
   ]
  },
  {
   "cell_type": "markdown",
   "id": "7b0eb446",
   "metadata": {},
   "source": [
    "Missing potential GDP data for the far future makes sense, but why these data are missing for the year 1949 is harder to explain."
   ]
  },
  {
   "cell_type": "markdown",
   "id": "af457101",
   "metadata": {},
   "source": [
    "In order to allow these data to be visualized, I'll create a subset which doesn't extend into the future, then set the missing data in 1949 to be null. Then I'll plot, impute and plot again."
   ]
  },
  {
   "cell_type": "code",
   "execution_count": 213,
   "id": "de79ad65",
   "metadata": {},
   "outputs": [],
   "source": [
    "gdppot.set_index('date', inplace = True)"
   ]
  },
  {
   "cell_type": "code",
   "execution_count": 214,
   "id": "e777d00d",
   "metadata": {},
   "outputs": [],
   "source": [
    "gdppot.index = pd.to_datetime(gdppot.index)"
   ]
  },
  {
   "cell_type": "code",
   "execution_count": 215,
   "id": "3b35a9ed",
   "metadata": {},
   "outputs": [],
   "source": [
    "gdppot_subset = gdppot.loc[:'2025-12-31']"
   ]
  },
  {
   "cell_type": "code",
   "execution_count": null,
   "id": "6b112061",
   "metadata": {},
   "outputs": [],
   "source": [
    "gdppot_subset.tail()"
   ]
  },
  {
   "cell_type": "markdown",
   "id": "22669293",
   "metadata": {},
   "source": [
    "________\n",
    "Importing beige book data"
   ]
  },
  {
   "cell_type": "code",
   "execution_count": 243,
   "id": "d7703b2b",
   "metadata": {},
   "outputs": [],
   "source": [
    "url = \"https://www.federalreserve.gov/monetarypolicy/beigebook202301-summary.htm\"\n",
    "response = requests.get(url)\n",
    "\n",
    "if response.status_code == 200:\n",
    "    soup = BeautifulSoup(response.text, \"html.parser\")\n",
    "    text_data = soup.get_text()"
   ]
  },
  {
   "cell_type": "code",
   "execution_count": 227,
   "id": "e74cfdcb",
   "metadata": {},
   "outputs": [
    {
     "data": {
      "text/plain": [
       "\"ï»¿\\n\\n\\n\\n\\n\\n\\n\\n\\n\\n\\n\\n\\n\\n\\n\\n\\n\\n\\n\\nThe Fed - Monetary Policy: Beige Book (Branch)\\n\\n\\n\\n\\n\\n\\n\\n\\n\\n\\n\\n\\n\\n\\nSkip to main content\\n\\n\\n\\nBack to Home\\nBoard of Governors of the Federal Reserve System\\n\\n\\nStay Connected\\n\\n\\n\\n\\nLink to Federal Reserve Facebook Page\\n\\n\\n\\n\\nLink to Federal Reserve Twitter Page\\n\\n\\n\\n\\nLink to Federal Reserve YouTube Page\\n\\n\\n\\n\\nLink to Federal Reserve Flickr Page\\n\\n\\n\\n\\nFederal Reserve LinkedIn Page\\n\\n\\n\\n\\nSubscribe to RSS\\n\\n\\n\\n\\nSubscribe to Email\\n\\n\\n\\n\\nRecent Postings\\n\\n\\nCalendar\\n\\n\\nPublications\\n\\n\\nSite Map\\n\\n\\nA-Z index\\n\\n\\nCareers\\n\\n\\nFAQs\\n\\n\\nVideos\\n\\n\\nContact\\n\\n\\n\\n\\nSearch\\n\\n\\n\\nSubmit Search Button\\n\\n\\n\\n\\n\\nAdvanced\\n\\n\\n\\n\\nToggle Dropdown Menu\\n\\n\\n\\n\\n\\n\\n\\nBoard of Governors of the Federal Reserve System\\r\\n            \\n\\nThe Federal Reserve, the central bank of the United States, provides\\r\\n          the nation with a safe, flexible, and stable monetary and financial\\r\\n          system.\\n\\n\\n\\n\\n\\n\\n\\nMain Menu Toggle Button\\n\\nSections\\n\\nSearch Toggle Button\\n\\n\\n\\n\\n\\nSearch\\n\\n\\nSearch Submit Button\\nSubmit\\n\\n\\n\\n\\n\\n\\n\\n\\nAbout\\r\\n                the Fed\\n\\n\\n\\n\\n\\nStructure of the Federal Reserve System\\n\\n\\nThe Fed Explained\\n\\n\\nBoard Members\\n\\n\\nAdvisory Councils\\n\\n\\nFederal Reserve Banks\\n\\n\\nFederal Reserve Act\\n\\n\\nCurrency\\n\\n\\n\\n\\nBoard Meetings\\n\\n\\nBoard Votes\\n\\n\\nDiversity & Inclusion\\n\\n\\nCareers\\n\\n\\nDo Business with the Board\\n\\n\\nHolidays Observed - K.8\\n\\n\\nEthics & Values\\n\\n\\n\\n\\nContact\\r\\n                                \\n\\n\\nRequesting Information (FOIA)\\n\\n\\nFAQs\\n\\n\\nEconomic Education\\n\\n\\nFed Financial Statements\\n\\n\\nInnovation\\n\\n\\n\\n\\n\\n\\n\\nNews\\r\\n                \\r\\n                & Events\\n\\n\\nPress Releases\\n\\n\\nSpeeches\\n\\n\\nTestimony\\n\\n\\nCalendar\\n\\n\\nVideos\\r\\n                    \\n\\n\\nPhoto Gallery\\r\\n                    \\n\\n\\nConferences\\n\\n\\n\\n\\nMonetary\\r\\n                Policy\\n\\n\\n\\n\\n\\n\\nFederal Open Market Committee\\n\\n\\n\\nAbout the FOMC\\n\\n\\nMeeting calendars and information\\n\\n\\nTranscripts and other historical materials\\n\\n\\nFAQs\\n\\n\\n\\nMonetary Policy Principles and Practice\\n\\n\\n\\nNotes\\n\\n\\n\\n\\n\\nPolicy Implementation\\n\\n\\n\\nPolicy Normalization\\n\\n\\nPolicy Tools\\n\\n\\n\\nReports\\n\\n\\n\\nMonetary Policy Report\\n\\n\\nBeige Book\\n\\n\\nFederal Reserve Balance Sheet Developments\\n\\n\\n\\nReview of Monetary Policy Strategy, Tools, and\\r\\n                    Communications\\n\\n\\n\\nOverview\\n\\n\\n\\n\\n\\n\\n\\nSupervision\\r\\n                & Regulation\\n\\n\\n\\n\\n\\n\\nInstitution Supervision\\n\\n\\n\\nCommunity & Regional Financial Institutions\\n\\n\\nLarge Financial Institutions\\n\\n\\nForeign Banking Organizations\\n\\n\\nFinancial Market Utilities\\n\\n\\nConsumer Compliance\\n\\n\\n\\nReports\\n\\n\\n\\nFederal Reserve Supervision and Regulation Report\\n\\n\\n\\n\\n\\nReporting Forms\\n\\n\\n\\nAll Reporting Forms\\n\\n\\nRecent Updates\\n\\n\\nInformation collections under review\\n\\n\\nFinancial Statements\\n\\n\\nApplications/structure change\\n\\n\\nFederal Financial Institutions Examination Council (FFIEC)\\n\\n\\nMunicipal & Government Securities\\n\\n\\n\\n\\n\\nSupervision & Regulation Letters\\n\\n\\n\\nBy Year\\n\\n\\nBy Topic\\n\\n\\n\\nBanking Applications & Legal Developments\\n\\n\\n\\nApplication Process\\n\\n\\nBoard & Reserve Bank Action\\n\\n\\nEnforcement Actions & Legal Developments\\n\\n\\n\\n\\n\\nRegulatory Resources\\n\\n\\n\\nRegulations\\n\\n\\nManuals\\n\\n\\nBasel Regulatory Framework\\n\\n\\nVolcker Rule\\n\\n\\nEducation, Training, and Assistance\\n\\n\\n\\n\\n\\nBanking & Data Structure\\n\\n\\n\\nBeneficial Ownership reports\\n\\n\\nLarge Commercial Banks\\n\\n\\nU.S. Offices of Foreign Entities\\n\\n\\nFinancial Holding Companies\\n\\n\\nInterstate Branching\\n\\n\\nSecurities Underwriting & Dealing Subsidiaries\\n\\n\\nMinority Depository Institutions\\n\\n\\n\\n\\n\\n\\n\\nFinancial\\r\\n                Stability\\n\\n\\n\\n\\n\\nFinancial Stability Assessments \\n\\n\\n\\nAbout Financial Stability\\r\\n                            \\n\\n\\nTypes of Financial System Vulnerabilities & Risks\\r\\n                            \\n\\n\\nMonitoring Risk Across the Financial System\\r\\n                            \\n\\n\\nProactive Monitoring of Markets & Institutions\\r\\n                            \\n\\n\\nFinancial Stability & Stress Testing\\n\\n\\n\\n\\n\\nFinancial Stability Coordination & Actions\\n\\n\\n\\nResponding to Financial System Emergencies\\r\\n                            \\n\\n\\nCooperation on Financial Stability\\r\\n                            \\n\\n\\n\\nReports\\n\\n\\n\\nFinancial Stability Report\\r\\n                            \\n\\n\\n\\n\\n\\n\\nPayment\\r\\n                Systems\\n\\n\\n\\n\\n\\n\\nRegulations & Statutes\\n\\n\\n\\nRegulation CC (Availability of Funds and Collection of\\r\\n                  Checks)\\n\\n\\nRegulation II (Debit Card Interchange Fees and Routing)\\n\\n\\nRegulation HH (Financial Market Utilities)\\n\\n\\nOther Regulations and Statutes\\n\\n\\n\\n\\n\\nPayment Policies\\n\\n\\n\\nFederal Reserve's Key Policies for the Provision of Financial\\r\\n                  Services\\n\\n\\nOvernight Overdrafts\\n\\n\\nPayment System Risk\\n\\n\\nSponsorship for Priority Telecommunication Services\\n\\n\\n\\n\\n\\nReserve Bank Payment Services & Data\\n\\n\\n\\nAutomated Clearinghouse Services\\n\\n\\nCheck Services\\n\\n\\nCurrency and Coin Services\\n\\n\\nDaylight Overdrafts and Fees\\n\\n\\nFedNowâ\\x84\\xa0 Service\\n\\n\\nFedwire Funds Services\\n\\n\\nFedwire Securities Services\\n\\n\\nFiscal Agency Services\\n\\n\\nNational Settlement Service\\n\\n\\n\\n\\n\\nFinancial Market Utilities & Infrastructures\\n\\n\\n\\nSupervision & Oversight of Financial Market\\r\\n                  Infrastructures\\n\\n\\nDesignated Financial Market Utilities\\n\\n\\nInternational Standards for Financial Market\\r\\n                  Infrastructures\\n\\n\\n\\n\\n\\nResearch, Committees, and Forums\\n\\n\\n\\nPayment Research\\n\\n\\nFederal Reserve Payments Study (FRPS)\\n\\n\\nPayments System Policy Advisory Committee\\n\\n\\nForums\\n\\n\\n\\n\\n\\n\\n\\nEconomic\\r\\n                Research\\n\\n\\n\\n\\n\\nMeet the Economists\\n\\n\\n\\nWorking Papers and Notes\\n\\n\\n\\nFinance and Economics Discussion Series (FEDS)\\n\\n\\nFEDS Notes\\n\\n\\nInternational Finance Discussion Papers (IFDP)\\n\\n\\n\\n\\n\\nData, Models and Tools\\n\\n\\n\\nEconomic Research Data\\n\\n\\nFRB/US Model\\n\\n\\nEstimated Dynamic Optimization (EDO) Model\\n\\n\\nSurvey of Consumer Finances (SCF)\\n\\n\\n\\n\\n\\n\\n\\nData\\n\\n\\n\\n\\n\\nData Download\\r\\n                  Program\\n\\n\\n\\nBank Assets and Liabilities\\n\\n\\n\\nAggregate Reserves of Depository Institutions and the\\r\\n                  Monetary Base - H.3\\n\\n\\nAssets and Liabilities of Commercial Banks in the U.S. -\\r\\n                  H.8\\n\\n\\nAssets and Liabilities of U.S. Branches and Agencies of\\r\\n                  Foreign Banks\\n\\n\\nCharge-Off and Delinquency Rates on Loans and Leases at\\r\\n                  Commercial Banks\\n\\n\\nSenior Financial Officer Survey\\n\\n\\nSenior Loan Officer Opinion Survey on Bank Lending\\r\\n                  Practices\\n\\n\\n\\n\\n\\nBank Structure Data\\n\\n\\n\\nLarge Commercial Banks\\n\\n\\nMinority Depository Institutions\\n\\n\\nStructure and Share Data for the U.S. Offices of Foreign\\r\\n                  Banks\\n\\n\\n\\nBusiness Finance\\n\\n\\n\\nCommercial Paper\\n\\n\\nFinance Companies - G.20\\n\\n\\nNew Security Issues, State and Local Governments\\n\\n\\nNew Security Issues, U.S. Corporations\\n\\n\\n\\nDealer Financing Terms\\n\\n\\n\\nSenior Credit Officer Opinion Survey on Dealer Financing\\r\\n                  Terms\\n\\n\\n\\n\\n\\nExchange Rates and International Data\\n\\n\\n\\nForeign Exchange Rates - H.10/G.5\\n\\n\\nInternational Summary Statistics\\n\\n\\nSecurities Holdings and Transactions\\n\\n\\nStatistics Reported by Banks and Other Financial Firms in the\\r\\n                  United States\\n\\n\\nStructure and Share Data for U.S. Offices of Foreign Banks\\n\\n\\n\\nFinancial Accounts\\n\\n\\n\\nFinancial Accounts of the United States - Z.1\\n\\n\\n\\n\\n\\nHousehold Finance\\n\\n\\n\\nConsumer Credit - G.19\\n\\n\\nHousehold Debt Service and Financial Obligations Ratios\\n\\n\\nMortgage Debt Outstanding\\n\\n\\nSurvey of Consumer Finances (SCF)\\n\\n\\nSurvey of Household Economics and Decisionmaking\\n\\n\\n\\nIndustrial Activity\\n\\n\\n\\nIndustrial Production and Capacity Utilization - G.17\\n\\n\\n\\nInterest Rates\\n\\n\\n\\nSelected Interest Rates - H.15\\n\\n\\n\\n\\n\\nMicro Data Reference Manual (MDRM)\\n\\n\\n\\nMicro and Macro Data Collections\\n\\n\\n\\nMoney Stock and Reserve Balances\\n\\n\\n\\nFactors Affecting Reserve Balances - H.4.1\\n\\n\\nMoney Stock Measures - H.6\\n\\n\\n\\nOther\\n\\n\\n\\nYield Curve Models and Data\\n\\n\\n\\n\\n\\n\\n\\nConsumers\\r\\n                & Communities\\n\\n\\n\\n\\n\\n\\nRegulations\\n\\n\\n\\nCommunity Reinvestment Act (CRA)\\n\\n\\nAll Regulations\\n\\n\\n\\nSupervisionÂ\\xa0& Enforcement\\n\\n\\n\\nCA Letters\\n\\n\\nEnforcement Actions\\n\\n\\nIndependent Foreclosure Review\\n\\n\\n\\n\\n\\nCommunity Development\\n\\n\\n\\nHousing and Neighborhood Revitalization\\n\\n\\nSmall Business and Entrepreneurship\\n\\n\\nEmployment and Workforce Development\\n\\n\\nCommunity Development Finance\\n\\n\\nRural Community and Economic Development\\n\\n\\n\\n\\nConferences\\n\\n\\n\\nResearchÂ\\xa0& Analysis\\n\\n\\n\\nSurvey of Household Economics and Decisionmaking\\n\\n\\nResearch Publications & Data Analysis\\n\\n\\n\\n\\nCommunity Advisory Council\\n\\n\\n\\nConsumer Resources\\n\\n\\n\\nMortgage and Foreclosure Resources\\n\\n\\nFederal Reserve Community Development Resources\\n\\n\\n\\n\\n\\n\\n\\n\\n\\n\\n\\n\\n\\nHome\\nMonetary Policy\\nBeige Book\\nJanuary 18, 2023\\n\\n\\n\\nBeige Book\\n\\n\\n\\n\\n\\n\\n\\n\\n\\nFull ReportNational Summary\\n\\n\\n\\n\\n\\n\\n\\n\\n\\nNational Summary\\nOverall Economic Activity\\r\\nOverall economic activity was relatively unchanged since the previous report. Five Districts reported slight or modest increases in overall activity, six noted no change or slight declines, and one cited a significant decline. On balance, contacts generally expected little growth in the months ahead. Consumer spending increased slightly, with some retailers reporting more robust sales over the holidays. Other retailers noted that high inflation continued to reduce consumers' purchasing power, particularly among low- and moderate-income households. Auto sales were flat on average, but some dealers noted that increased vehicle availability had boosted sales. Tourism contacts reported moderate to robust activity augmented by strong holiday travel. Manufacturers indicated that activity declined modestly on average, and, in many Districts, reported that supply chain disruptions had eased. Housing markets continued to weaken, with sales and construction declining across Districts. Commercial real estate activity slowed slightly, on average, with more notable weakening in the office market. Nonfinancial services firms experienced stable demand on balance. Most bankers reported that residential mortgage demand remained weak, and some said higher borrowing costs had begun to dampen commercial lending. Energy activity continued to increase moderately, and agriculture conditions were generally unchanged or improving.\\nLabor Markets\\r\\nEmployment continued to grow at a modest to moderate pace for most Districts. Only one District reported a slight decline in employment, and one other reported no change in employment levels. While some Districts noted that labor availability had increased, firms continued to report difficulty in filling open positions. Many firms hesitated to lay off employees even as demand for their goods and services slowed and planned to reduce headcount through attrition if needed. With persistently tight labor markets, wage pressures remained elevated across Districts, though five Reserve Banks reported that these pressures had eased somewhat. Some employers noted they have continued to offer bonuses and enhanced benefits to attract and retain workers.\\nPrices\\r\\nSelling prices increased at a modest or moderate pace in most Districts, though many said that the pace of increases had slowed from that of recent reporting periods. Manufacturers in many Districts reported continued easing in freight costs and prices for commodities, including steel and lumber, though some said input costs remained elevated. Many retailers noted increased difficulty in passing through cost increases, suggesting greater price sensitivity on the part of consumers. In addition, some retailers offered more discounts and promotions than they had a year ago in order to move merchandise and clear out excess inventories. On balance, contacts across Districts said they expected future price growth to moderate further in the year ahead.\\nHighlights by Federal Reserve District \\nBoston\\r\\nBusiness activity was roughly flat, and employment increased moderately amid seasonal hiring. Prices increased modestly as nonlabor cost pressures eased. Wage growth was above average despite easier hiring conditions. Tourism activity posted strong gains, while home sales continued to fall. The outlook was mostly stable but worsened slightly amid real estate contacts.\\nNew York \\r\\nEconomic activity contracted, led by an especially sharp decline in the manufacturing sector. Job growth slowed and labor shortages eased somewhat, but hiring plans remained fairly solid. Wage growth remained modest, while the pace of input and selling price increases slowed. Housing markets continued to cool, and loan demand fell.\\nPhiladelphia\\r\\nBusiness activity appeared to decline slightly during the current Beige Book period after holding steady for six months. Wage and price inflation continued to subside but still grew at a moderate pace. Employment continued to rise slightly, although hiring plans grew more cautious. Current sentiment fell, but expectations improved.\\nCleveland\\r\\nThe District's economy slowed slightly as 2022 drew to a close amid high interest rates and elevated costs and selling prices. However, the share of contacts reporting higher costs or selling prices declined noticeably from the middle of 2022. Looking ahead, firms expect softer conditions to persist in the near term but still plan to add workers to meet existing and expected demand for their goods and services.\\nRichmond\\r\\nThe regional economy continued to grow at a slight pace, due in large part to moderate growth in consumer spending as manufacturing, transportation, real estate, and lending activity slowed. Employment rose more modestly this period compared to recent months and some firms noted hitting limits on wage increases. Price growth remained elevated in recent weeks.\\nAtlanta\\r\\nEconomic activity grew at a gradual pace. Labor market tightness eased, but wage pressures persisted. Most nonlabor costs moderated. Retailers reported healthy holiday sales. Auto sales rose. Leisure travel was robust. Housing demand fell. Transportation conditions weakened. Overall loan growth was steady, but deposit growth slowed. Agriculture remained mixed.\\nChicago\\r\\nEconomic activity decreased slightly. Employment increased moderately; consumer and business spending were unchanged; nonbusiness contacts saw little change in activity; manufacturing decreased modestly; and construction and real estate decreased moderately. Prices and wages rose moderately, while financial conditions tightened some. Agriculture incomes were strong in 2022.\\nSt. Louis\\r\\nEconomic conditions have remained unchanged since our previous report. Labor shortages remained a key issue, though more contacts reported a slightly easier time hiring and retaining workers. The rate of input price increases slowed, and contacts reported improvements in shipping costs and delivery times. Consumer spending and travel were both mixed during the holiday season.\\nMinneapolis\\r\\nEconomic activity in the region expanded slightly in recent weeks. Employment grew modestly, with labor demand softening but still healthy. Wage and price pressures remained high but lessened slightly. Holiday shopping was good overall but stymied somewhat by severe winter weather. Construction and real estate sectors continued to struggle. Inflation and high labor costs were hurting minority- and women-owned firms.\\nKansas City\\r\\nEconomic activity in the Tenth District continued to decline slightly through the end of 2022. Though labor demand cooled further, contacts reported ongoing tightness and persistent wage pressures. Consumer spending declined recently, particularly for retailers and restaurants. Across goods and services, price growth slowed to a moderate, yet still-brisk, pace. Energy activity slowed modestly, facing headwinds from falling oil and gas prices.\\nDallas\\r\\nModest economic growth continued, with an acceleration in the manufacturing sector but an abatement in the service sector. Retail sales and home sales fell further, while oil and gas activity expanded. Employment growth continued and wage and price growth stayed elevated. Outlooks were mostly pessimistic except for the energy sector, and many contacts voiced concern about weakened demand, a potential recession, and inflation.\\nSan Francisco\\r\\nEconomic activity expanded modestly. Employment levels grew at a modest pace as labor supply improved. Wages and prices remained elevated but rose at a slower pace relative to the previous reporting period. Demand for retail goods and services was stable. Manufacturing activity was mixed, while conditions in the agriculture sector remained weak. Residential real estate activity weakened, and lending activity rose slightly.\\n\\n\\nBack to Top\\n\\nLast Update:\\r\\n                    January 18, 2023\\r\\n                \\n\\n\\n\\n\\n\\nBoard of Governors of the Federal Reserve System\\n\\nAbout the FedNews & EventsMonetary PolicySupervision & RegulationFinancial StabilityPayment SystemsEconomic ResearchDataConsumers & Communities\\n\\n\\n\\nTools and Information\\n\\nContact\\nPublications\\nFreedom of Information (FOIA)\\nOffice of Inspector General\\nBudget & Performance | Audit\\nNo FEAR Act\\nEspañol\\nWebsite Policies  | Privacy Program\\nAccessibility\\n\\n\\n\\n\\nStay Connected\\nLink to Federal Reserve Facebook Page\\nLink to Federal Reserve Twitter Page\\nLink to Federal Reserve YouTube Page\\nLink to Federal Reserve Flickr Page\\nFederal Reserve LinkedIn Page\\nSubscribe to RSS\\nSubscribe to Email\\n\\n\\n\\n\\n\\n\\n\\n\\n\\n\\n\\nBoard of Governors of the Federal Reserve System\\n20th Street and Constitution Avenue N.W., Washington, DC 20551\\n\\n\\n\\n\\n\\n\\n\\n\\n\\n\\n\\n\\n\\n\""
      ]
     },
     "execution_count": 227,
     "metadata": {},
     "output_type": "execute_result"
    }
   ],
   "source": [
    "text_data"
   ]
  },
  {
   "cell_type": "code",
   "execution_count": 244,
   "id": "8ff3824e",
   "metadata": {},
   "outputs": [
    {
     "data": {
      "text/plain": [
       "\"ï»¿ The Fed - Monetary Policy: Beige Book (Branch) Skip to main content Back to Home Board of Governors of the Federal Reserve System Stay Connected Link to Federal Reserve Facebook Page Link to Federal Reserve Twitter Page Link to Federal Reserve YouTube Page Link to Federal Reserve Flickr Page Federal Reserve LinkedIn Page Subscribe to RSS Subscribe to Email Recent Postings Calendar Publications Site Map A-Z index Careers FAQs Videos Contact Search Submit Search Button Advanced Toggle Dropdown Menu Board of Governors of the Federal Reserve System\\r              The Federal Reserve, the central bank of the United States, provides\\r           the nation with a safe, flexible, and stable monetary and financial\\r           system. Main Menu Toggle Button Sections Search Toggle Button Search Search Submit Button Submit About\\r                 the Fed Structure of the Federal Reserve System The Fed Explained Board Members Advisory Councils Federal Reserve Banks Federal Reserve Act Currency Board Meetings Board Votes Diversity & Inclusion Careers Do Business with the Board Holidays Observed - K.8 Ethics & Values Contact\\r                                  Requesting Information (FOIA) FAQs Economic Education Fed Financial Statements Innovation News\\r                 \\r                 & Events Press Releases Speeches Testimony Calendar Videos\\r                      Photo Gallery\\r                      Conferences Monetary\\r                 Policy Federal Open Market Committee About the FOMC Meeting calendars and information Transcripts and other historical materials FAQs Monetary Policy Principles and Practice Notes Policy Implementation Policy Normalization Policy Tools Reports Monetary Policy Report Beige Book Federal Reserve Balance Sheet Developments Review of Monetary Policy Strategy, Tools, and\\r                     Communications Overview Supervision\\r                 & Regulation Institution Supervision Community & Regional Financial Institutions Large Financial Institutions Foreign Banking Organizations Financial Market Utilities Consumer Compliance Reports Federal Reserve Supervision and Regulation Report Reporting Forms All Reporting Forms Recent Updates Information collections under review Financial Statements Applications/structure change Federal Financial Institutions Examination Council (FFIEC) Municipal & Government Securities Supervision & Regulation Letters By Year By Topic Banking Applications & Legal Developments Application Process Board & Reserve Bank Action Enforcement Actions & Legal Developments Regulatory Resources Regulations Manuals Basel Regulatory Framework Volcker Rule Education, Training, and Assistance Banking & Data Structure Beneficial Ownership reports Large Commercial Banks U.S. Offices of Foreign Entities Financial Holding Companies Interstate Branching Securities Underwriting & Dealing Subsidiaries Minority Depository Institutions Financial\\r                 Stability Financial Stability Assessments  About Financial Stability\\r                              Types of Financial System Vulnerabilities & Risks\\r                              Monitoring Risk Across the Financial System\\r                              Proactive Monitoring of Markets & Institutions\\r                              Financial Stability & Stress Testing Financial Stability Coordination & Actions Responding to Financial System Emergencies\\r                              Cooperation on Financial Stability\\r                              Reports Financial Stability Report\\r                              Payment\\r                 Systems Regulations & Statutes Regulation CC (Availability of Funds and Collection of\\r                   Checks) Regulation II (Debit Card Interchange Fees and Routing) Regulation HH (Financial Market Utilities) Other Regulations and Statutes Payment Policies Federal Reserve's Key Policies for the Provision of Financial\\r                   Services Overnight Overdrafts Payment System Risk Sponsorship for Priority Telecommunication Services Reserve Bank Payment Services & Data Automated Clearinghouse Services Check Services Currency and Coin Services Daylight Overdrafts and Fees FedNowâ\\x84\\xa0 Service Fedwire Funds Services Fedwire Securities Services Fiscal Agency Services National Settlement Service Financial Market Utilities & Infrastructures Supervision & Oversight of Financial Market\\r                   Infrastructures Designated Financial Market Utilities International Standards for Financial Market\\r                   Infrastructures Research, Committees, and Forums Payment Research Federal Reserve Payments Study (FRPS) Payments System Policy Advisory Committee Forums Economic\\r                 Research Meet the Economists Working Papers and Notes Finance and Economics Discussion Series (FEDS) FEDS Notes International Finance Discussion Papers (IFDP) Data, Models and Tools Economic Research Data FRB/US Model Estimated Dynamic Optimization (EDO) Model Survey of Consumer Finances (SCF) Data Data Download\\r                   Program Bank Assets and Liabilities Aggregate Reserves of Depository Institutions and the\\r                   Monetary Base - H.3 Assets and Liabilities of Commercial Banks in the U.S. -\\r                   H.8 Assets and Liabilities of U.S. Branches and Agencies of\\r                   Foreign Banks Charge-Off and Delinquency Rates on Loans and Leases at\\r                   Commercial Banks Senior Financial Officer Survey Senior Loan Officer Opinion Survey on Bank Lending\\r                   Practices Bank Structure Data Large Commercial Banks Minority Depository Institutions Structure and Share Data for the U.S. Offices of Foreign\\r                   Banks Business Finance Commercial Paper Finance Companies - G.20 New Security Issues, State and Local Governments New Security Issues, U.S. Corporations Dealer Financing Terms Senior Credit Officer Opinion Survey on Dealer Financing\\r                   Terms Exchange Rates and International Data Foreign Exchange Rates - H.10/G.5 International Summary Statistics Securities Holdings and Transactions Statistics Reported by Banks and Other Financial Firms in the\\r                   United States Structure and Share Data for U.S. Offices of Foreign Banks Financial Accounts Financial Accounts of the United States - Z.1 Household Finance Consumer Credit - G.19 Household Debt Service and Financial Obligations Ratios Mortgage Debt Outstanding Survey of Consumer Finances (SCF) Survey of Household Economics and Decisionmaking Industrial Activity Industrial Production and Capacity Utilization - G.17 Interest Rates Selected Interest Rates - H.15 Micro Data Reference Manual (MDRM) Micro and Macro Data Collections Money Stock and Reserve Balances Factors Affecting Reserve Balances - H.4.1 Money Stock Measures - H.6 Other Yield Curve Models and Data Consumers\\r                 & Communities Regulations Community Reinvestment Act (CRA) All Regulations SupervisionÂ\\xa0& Enforcement CA Letters Enforcement Actions Independent Foreclosure Review Community Development Housing and Neighborhood Revitalization Small Business and Entrepreneurship Employment and Workforce Development Community Development Finance Rural Community and Economic Development Conferences ResearchÂ\\xa0& Analysis Survey of Household Economics and Decisionmaking Research Publications & Data Analysis Community Advisory Council Consumer Resources Mortgage and Foreclosure Resources Federal Reserve Community Development Resources Home Monetary Policy Beige Book January 18, 2023 Beige Book Full ReportNational Summary National Summary Overall Economic Activity\\r Overall economic activity was relatively unchanged since the previous report. Five Districts reported slight or modest increases in overall activity, six noted no change or slight declines, and one cited a significant decline. On balance, contacts generally expected little growth in the months ahead. Consumer spending increased slightly, with some retailers reporting more robust sales over the holidays. Other retailers noted that high inflation continued to reduce consumers' purchasing power, particularly among low- and moderate-income households. Auto sales were flat on average, but some dealers noted that increased vehicle availability had boosted sales. Tourism contacts reported moderate to robust activity augmented by strong holiday travel. Manufacturers indicated that activity declined modestly on average, and, in many Districts, reported that supply chain disruptions had eased. Housing markets continued to weaken, with sales and construction declining across Districts. Commercial real estate activity slowed slightly, on average, with more notable weakening in the office market. Nonfinancial services firms experienced stable demand on balance. Most bankers reported that residential mortgage demand remained weak, and some said higher borrowing costs had begun to dampen commercial lending. Energy activity continued to increase moderately, and agriculture conditions were generally unchanged or improving. Labor Markets\\r Employment continued to grow at a modest to moderate pace for most Districts. Only one District reported a slight decline in employment, and one other reported no change in employment levels. While some Districts noted that labor availability had increased, firms continued to report difficulty in filling open positions. Many firms hesitated to lay off employees even as demand for their goods and services slowed and planned to reduce headcount through attrition if needed. With persistently tight labor markets, wage pressures remained elevated across Districts, though five Reserve Banks reported that these pressures had eased somewhat. Some employers noted they have continued to offer bonuses and enhanced benefits to attract and retain workers. Prices\\r Selling prices increased at a modest or moderate pace in most Districts, though many said that the pace of increases had slowed from that of recent reporting periods. Manufacturers in many Districts reported continued easing in freight costs and prices for commodities, including steel and lumber, though some said input costs remained elevated. Many retailers noted increased difficulty in passing through cost increases, suggesting greater price sensitivity on the part of consumers. In addition, some retailers offered more discounts and promotions than they had a year ago in order to move merchandise and clear out excess inventories. On balance, contacts across Districts said they expected future price growth to moderate further in the year ahead. Highlights by Federal Reserve District  Boston\\r Business activity was roughly flat, and employment increased moderately amid seasonal hiring. Prices increased modestly as nonlabor cost pressures eased. Wage growth was above average despite easier hiring conditions. Tourism activity posted strong gains, while home sales continued to fall. The outlook was mostly stable but worsened slightly amid real estate contacts. New York \\r Economic activity contracted, led by an especially sharp decline in the manufacturing sector. Job growth slowed and labor shortages eased somewhat, but hiring plans remained fairly solid. Wage growth remained modest, while the pace of input and selling price increases slowed. Housing markets continued to cool, and loan demand fell. Philadelphia\\r Business activity appeared to decline slightly during the current Beige Book period after holding steady for six months. Wage and price inflation continued to subside but still grew at a moderate pace. Employment continued to rise slightly, although hiring plans grew more cautious. Current sentiment fell, but expectations improved. Cleveland\\r The District's economy slowed slightly as 2022 drew to a close amid high interest rates and elevated costs and selling prices. However, the share of contacts reporting higher costs or selling prices declined noticeably from the middle of 2022. Looking ahead, firms expect softer conditions to persist in the near term but still plan to add workers to meet existing and expected demand for their goods and services. Richmond\\r The regional economy continued to grow at a slight pace, due in large part to moderate growth in consumer spending as manufacturing, transportation, real estate, and lending activity slowed. Employment rose more modestly this period compared to recent months and some firms noted hitting limits on wage increases. Price growth remained elevated in recent weeks. Atlanta\\r Economic activity grew at a gradual pace. Labor market tightness eased, but wage pressures persisted. Most nonlabor costs moderated. Retailers reported healthy holiday sales. Auto sales rose. Leisure travel was robust. Housing demand fell. Transportation conditions weakened. Overall loan growth was steady, but deposit growth slowed. Agriculture remained mixed. Chicago\\r Economic activity decreased slightly. Employment increased moderately; consumer and business spending were unchanged; nonbusiness contacts saw little change in activity; manufacturing decreased modestly; and construction and real estate decreased moderately. Prices and wages rose moderately, while financial conditions tightened some. Agriculture incomes were strong in 2022. St. Louis\\r Economic conditions have remained unchanged since our previous report. Labor shortages remained a key issue, though more contacts reported a slightly easier time hiring and retaining workers. The rate of input price increases slowed, and contacts reported improvements in shipping costs and delivery times. Consumer spending and travel were both mixed during the holiday season. Minneapolis\\r Economic activity in the region expanded slightly in recent weeks. Employment grew modestly, with labor demand softening but still healthy. Wage and price pressures remained high but lessened slightly. Holiday shopping was good overall but stymied somewhat by severe winter weather. Construction and real estate sectors continued to struggle. Inflation and high labor costs were hurting minority- and women-owned firms. Kansas City\\r Economic activity in the Tenth District continued to decline slightly through the end of 2022. Though labor demand cooled further, contacts reported ongoing tightness and persistent wage pressures. Consumer spending declined recently, particularly for retailers and restaurants. Across goods and services, price growth slowed to a moderate, yet still-brisk, pace. Energy activity slowed modestly, facing headwinds from falling oil and gas prices. Dallas\\r Modest economic growth continued, with an acceleration in the manufacturing sector but an abatement in the service sector. Retail sales and home sales fell further, while oil and gas activity expanded. Employment growth continued and wage and price growth stayed elevated. Outlooks were mostly pessimistic except for the energy sector, and many contacts voiced concern about weakened demand, a potential recession, and inflation. San Francisco\\r Economic activity expanded modestly. Employment levels grew at a modest pace as labor supply improved. Wages and prices remained elevated but rose at a slower pace relative to the previous reporting period. Demand for retail goods and services was stable. Manufacturing activity was mixed, while conditions in the agriculture sector remained weak. Residential real estate activity weakened, and lending activity rose slightly. Back to Top Last Update:\\r                     January 18, 2023\\r                  Board of Governors of the Federal Reserve System About the FedNews & EventsMonetary PolicySupervision & RegulationFinancial StabilityPayment SystemsEconomic ResearchDataConsumers & Communities Tools and Information Contact Publications Freedom of Information (FOIA) Office of Inspector General Budget & Performance | Audit No FEAR Act Español Website Policies  | Privacy Program Accessibility Stay Connected Link to Federal Reserve Facebook Page Link to Federal Reserve Twitter Page Link to Federal Reserve YouTube Page Link to Federal Reserve Flickr Page Federal Reserve LinkedIn Page Subscribe to RSS Subscribe to Email Board of Governors of the Federal Reserve System 20th Street and Constitution Avenue N.W., Washington, DC 20551 \""
      ]
     },
     "execution_count": 244,
     "metadata": {},
     "output_type": "execute_result"
    }
   ],
   "source": [
    "text_data = re.sub(r'\\n+', ' ', text_data)\n",
    "text_data"
   ]
  },
  {
   "cell_type": "code",
   "execution_count": 245,
   "id": "709740a3",
   "metadata": {},
   "outputs": [
    {
     "data": {
      "text/plain": [
       "\"ï»¿ The Fed - Monetary Policy: Beige Book (Branch) Skip to main content Back to Home Board of Governors of the Federal Reserve System Stay Connected Link to Federal Reserve Facebook Page Link to Federal Reserve Twitter Page Link to Federal Reserve YouTube Page Link to Federal Reserve Flickr Page Federal Reserve LinkedIn Page Subscribe to RSS Subscribe to Email Recent Postings Calendar Publications Site Map A-Z index Careers FAQs Videos Contact Search Submit Search Button Advanced Toggle Dropdown Menu Board of Governors of the Federal Reserve System              The Federal Reserve, the central bank of the United States, provides           the nation with a safe, flexible, and stable monetary and financial           system. Main Menu Toggle Button Sections Search Toggle Button Search Search Submit Button Submit About                 the Fed Structure of the Federal Reserve System The Fed Explained Board Members Advisory Councils Federal Reserve Banks Federal Reserve Act Currency Board Meetings Board Votes Diversity & Inclusion Careers Do Business with the Board Holidays Observed - K.8 Ethics & Values Contact                                  Requesting Information (FOIA) FAQs Economic Education Fed Financial Statements Innovation News                                  & Events Press Releases Speeches Testimony Calendar Videos                      Photo Gallery                      Conferences Monetary                 Policy Federal Open Market Committee About the FOMC Meeting calendars and information Transcripts and other historical materials FAQs Monetary Policy Principles and Practice Notes Policy Implementation Policy Normalization Policy Tools Reports Monetary Policy Report Beige Book Federal Reserve Balance Sheet Developments Review of Monetary Policy Strategy, Tools, and                     Communications Overview Supervision                 & Regulation Institution Supervision Community & Regional Financial Institutions Large Financial Institutions Foreign Banking Organizations Financial Market Utilities Consumer Compliance Reports Federal Reserve Supervision and Regulation Report Reporting Forms All Reporting Forms Recent Updates Information collections under review Financial Statements Applications/structure change Federal Financial Institutions Examination Council (FFIEC) Municipal & Government Securities Supervision & Regulation Letters By Year By Topic Banking Applications & Legal Developments Application Process Board & Reserve Bank Action Enforcement Actions & Legal Developments Regulatory Resources Regulations Manuals Basel Regulatory Framework Volcker Rule Education, Training, and Assistance Banking & Data Structure Beneficial Ownership reports Large Commercial Banks U.S. Offices of Foreign Entities Financial Holding Companies Interstate Branching Securities Underwriting & Dealing Subsidiaries Minority Depository Institutions Financial                 Stability Financial Stability Assessments  About Financial Stability                              Types of Financial System Vulnerabilities & Risks                              Monitoring Risk Across the Financial System                              Proactive Monitoring of Markets & Institutions                              Financial Stability & Stress Testing Financial Stability Coordination & Actions Responding to Financial System Emergencies                              Cooperation on Financial Stability                              Reports Financial Stability Report                              Payment                 Systems Regulations & Statutes Regulation CC (Availability of Funds and Collection of                   Checks) Regulation II (Debit Card Interchange Fees and Routing) Regulation HH (Financial Market Utilities) Other Regulations and Statutes Payment Policies Federal Reserve's Key Policies for the Provision of Financial                   Services Overnight Overdrafts Payment System Risk Sponsorship for Priority Telecommunication Services Reserve Bank Payment Services & Data Automated Clearinghouse Services Check Services Currency and Coin Services Daylight Overdrafts and Fees FedNowâ\\x84\\xa0 Service Fedwire Funds Services Fedwire Securities Services Fiscal Agency Services National Settlement Service Financial Market Utilities & Infrastructures Supervision & Oversight of Financial Market                   Infrastructures Designated Financial Market Utilities International Standards for Financial Market                   Infrastructures Research, Committees, and Forums Payment Research Federal Reserve Payments Study (FRPS) Payments System Policy Advisory Committee Forums Economic                 Research Meet the Economists Working Papers and Notes Finance and Economics Discussion Series (FEDS) FEDS Notes International Finance Discussion Papers (IFDP) Data, Models and Tools Economic Research Data FRB/US Model Estimated Dynamic Optimization (EDO) Model Survey of Consumer Finances (SCF) Data Data Download                   Program Bank Assets and Liabilities Aggregate Reserves of Depository Institutions and the                   Monetary Base - H.3 Assets and Liabilities of Commercial Banks in the U.S. -                   H.8 Assets and Liabilities of U.S. Branches and Agencies of                   Foreign Banks Charge-Off and Delinquency Rates on Loans and Leases at                   Commercial Banks Senior Financial Officer Survey Senior Loan Officer Opinion Survey on Bank Lending                   Practices Bank Structure Data Large Commercial Banks Minority Depository Institutions Structure and Share Data for the U.S. Offices of Foreign                   Banks Business Finance Commercial Paper Finance Companies - G.20 New Security Issues, State and Local Governments New Security Issues, U.S. Corporations Dealer Financing Terms Senior Credit Officer Opinion Survey on Dealer Financing                   Terms Exchange Rates and International Data Foreign Exchange Rates - H.10/G.5 International Summary Statistics Securities Holdings and Transactions Statistics Reported by Banks and Other Financial Firms in the                   United States Structure and Share Data for U.S. Offices of Foreign Banks Financial Accounts Financial Accounts of the United States - Z.1 Household Finance Consumer Credit - G.19 Household Debt Service and Financial Obligations Ratios Mortgage Debt Outstanding Survey of Consumer Finances (SCF) Survey of Household Economics and Decisionmaking Industrial Activity Industrial Production and Capacity Utilization - G.17 Interest Rates Selected Interest Rates - H.15 Micro Data Reference Manual (MDRM) Micro and Macro Data Collections Money Stock and Reserve Balances Factors Affecting Reserve Balances - H.4.1 Money Stock Measures - H.6 Other Yield Curve Models and Data Consumers                 & Communities Regulations Community Reinvestment Act (CRA) All Regulations SupervisionÂ\\xa0& Enforcement CA Letters Enforcement Actions Independent Foreclosure Review Community Development Housing and Neighborhood Revitalization Small Business and Entrepreneurship Employment and Workforce Development Community Development Finance Rural Community and Economic Development Conferences ResearchÂ\\xa0& Analysis Survey of Household Economics and Decisionmaking Research Publications & Data Analysis Community Advisory Council Consumer Resources Mortgage and Foreclosure Resources Federal Reserve Community Development Resources Home Monetary Policy Beige Book January 18, 2023 Beige Book Full ReportNational Summary National Summary Overall Economic Activity Overall economic activity was relatively unchanged since the previous report. Five Districts reported slight or modest increases in overall activity, six noted no change or slight declines, and one cited a significant decline. On balance, contacts generally expected little growth in the months ahead. Consumer spending increased slightly, with some retailers reporting more robust sales over the holidays. Other retailers noted that high inflation continued to reduce consumers' purchasing power, particularly among low- and moderate-income households. Auto sales were flat on average, but some dealers noted that increased vehicle availability had boosted sales. Tourism contacts reported moderate to robust activity augmented by strong holiday travel. Manufacturers indicated that activity declined modestly on average, and, in many Districts, reported that supply chain disruptions had eased. Housing markets continued to weaken, with sales and construction declining across Districts. Commercial real estate activity slowed slightly, on average, with more notable weakening in the office market. Nonfinancial services firms experienced stable demand on balance. Most bankers reported that residential mortgage demand remained weak, and some said higher borrowing costs had begun to dampen commercial lending. Energy activity continued to increase moderately, and agriculture conditions were generally unchanged or improving. Labor Markets Employment continued to grow at a modest to moderate pace for most Districts. Only one District reported a slight decline in employment, and one other reported no change in employment levels. While some Districts noted that labor availability had increased, firms continued to report difficulty in filling open positions. Many firms hesitated to lay off employees even as demand for their goods and services slowed and planned to reduce headcount through attrition if needed. With persistently tight labor markets, wage pressures remained elevated across Districts, though five Reserve Banks reported that these pressures had eased somewhat. Some employers noted they have continued to offer bonuses and enhanced benefits to attract and retain workers. Prices Selling prices increased at a modest or moderate pace in most Districts, though many said that the pace of increases had slowed from that of recent reporting periods. Manufacturers in many Districts reported continued easing in freight costs and prices for commodities, including steel and lumber, though some said input costs remained elevated. Many retailers noted increased difficulty in passing through cost increases, suggesting greater price sensitivity on the part of consumers. In addition, some retailers offered more discounts and promotions than they had a year ago in order to move merchandise and clear out excess inventories. On balance, contacts across Districts said they expected future price growth to moderate further in the year ahead. Highlights by Federal Reserve District  Boston Business activity was roughly flat, and employment increased moderately amid seasonal hiring. Prices increased modestly as nonlabor cost pressures eased. Wage growth was above average despite easier hiring conditions. Tourism activity posted strong gains, while home sales continued to fall. The outlook was mostly stable but worsened slightly amid real estate contacts. New York  Economic activity contracted, led by an especially sharp decline in the manufacturing sector. Job growth slowed and labor shortages eased somewhat, but hiring plans remained fairly solid. Wage growth remained modest, while the pace of input and selling price increases slowed. Housing markets continued to cool, and loan demand fell. Philadelphia Business activity appeared to decline slightly during the current Beige Book period after holding steady for six months. Wage and price inflation continued to subside but still grew at a moderate pace. Employment continued to rise slightly, although hiring plans grew more cautious. Current sentiment fell, but expectations improved. Cleveland The District's economy slowed slightly as 2022 drew to a close amid high interest rates and elevated costs and selling prices. However, the share of contacts reporting higher costs or selling prices declined noticeably from the middle of 2022. Looking ahead, firms expect softer conditions to persist in the near term but still plan to add workers to meet existing and expected demand for their goods and services. Richmond The regional economy continued to grow at a slight pace, due in large part to moderate growth in consumer spending as manufacturing, transportation, real estate, and lending activity slowed. Employment rose more modestly this period compared to recent months and some firms noted hitting limits on wage increases. Price growth remained elevated in recent weeks. Atlanta Economic activity grew at a gradual pace. Labor market tightness eased, but wage pressures persisted. Most nonlabor costs moderated. Retailers reported healthy holiday sales. Auto sales rose. Leisure travel was robust. Housing demand fell. Transportation conditions weakened. Overall loan growth was steady, but deposit growth slowed. Agriculture remained mixed. Chicago Economic activity decreased slightly. Employment increased moderately; consumer and business spending were unchanged; nonbusiness contacts saw little change in activity; manufacturing decreased modestly; and construction and real estate decreased moderately. Prices and wages rose moderately, while financial conditions tightened some. Agriculture incomes were strong in 2022. St. Louis Economic conditions have remained unchanged since our previous report. Labor shortages remained a key issue, though more contacts reported a slightly easier time hiring and retaining workers. The rate of input price increases slowed, and contacts reported improvements in shipping costs and delivery times. Consumer spending and travel were both mixed during the holiday season. Minneapolis Economic activity in the region expanded slightly in recent weeks. Employment grew modestly, with labor demand softening but still healthy. Wage and price pressures remained high but lessened slightly. Holiday shopping was good overall but stymied somewhat by severe winter weather. Construction and real estate sectors continued to struggle. Inflation and high labor costs were hurting minority- and women-owned firms. Kansas City Economic activity in the Tenth District continued to decline slightly through the end of 2022. Though labor demand cooled further, contacts reported ongoing tightness and persistent wage pressures. Consumer spending declined recently, particularly for retailers and restaurants. Across goods and services, price growth slowed to a moderate, yet still-brisk, pace. Energy activity slowed modestly, facing headwinds from falling oil and gas prices. Dallas Modest economic growth continued, with an acceleration in the manufacturing sector but an abatement in the service sector. Retail sales and home sales fell further, while oil and gas activity expanded. Employment growth continued and wage and price growth stayed elevated. Outlooks were mostly pessimistic except for the energy sector, and many contacts voiced concern about weakened demand, a potential recession, and inflation. San Francisco Economic activity expanded modestly. Employment levels grew at a modest pace as labor supply improved. Wages and prices remained elevated but rose at a slower pace relative to the previous reporting period. Demand for retail goods and services was stable. Manufacturing activity was mixed, while conditions in the agriculture sector remained weak. Residential real estate activity weakened, and lending activity rose slightly. Back to Top Last Update:                     January 18, 2023                  Board of Governors of the Federal Reserve System About the FedNews & EventsMonetary PolicySupervision & RegulationFinancial StabilityPayment SystemsEconomic ResearchDataConsumers & Communities Tools and Information Contact Publications Freedom of Information (FOIA) Office of Inspector General Budget & Performance | Audit No FEAR Act Español Website Policies  | Privacy Program Accessibility Stay Connected Link to Federal Reserve Facebook Page Link to Federal Reserve Twitter Page Link to Federal Reserve YouTube Page Link to Federal Reserve Flickr Page Federal Reserve LinkedIn Page Subscribe to RSS Subscribe to Email Board of Governors of the Federal Reserve System 20th Street and Constitution Avenue N.W., Washington, DC 20551 \""
      ]
     },
     "execution_count": 245,
     "metadata": {},
     "output_type": "execute_result"
    }
   ],
   "source": [
    "text_data = re.sub(r'\\r+', '', text_data)\n",
    "text_data"
   ]
  },
  {
   "cell_type": "code",
   "execution_count": 268,
   "id": "48fcf4d1",
   "metadata": {},
   "outputs": [
    {
     "data": {
      "text/plain": [
       "\" Overall Economic Activity Overall economic activity was relatively unchanged since the previous report. Five Districts reported slight or modest increases in overall activity, six noted no change or slight declines, and one cited a significant decline. On balance, contacts generally expected little growth in the months ahead. Consumer spending increased slightly, with some retailers reporting more robust sales over the holidays. Other retailers noted that high inflation continued to reduce consumers' purchasing power, particularly among low- and moderate-income households. Auto sales were flat on average, but some dealers noted that increased vehicle availability had boosted sales. Tourism contacts reported moderate to robust activity augmented by strong holiday travel. Manufacturers indicated that activity declined modestly on average, and, in many Districts, reported that supply chain disruptions had eased. Housing markets continued to weaken, with sales and construction declining across Districts. Commercial real estate activity slowed slightly, on average, with more notable weakening in the office market. Nonfinancial services firms experienced stable demand on balance. Most bankers reported that residential mortgage demand remained weak, and some said higher borrowing costs had begun to dampen commercial lending. Energy activity continued to increase moderately, and agriculture conditions were generally unchanged or improving. Labor Markets Employment continued to grow at a modest to moderate pace for most Districts. Only one District reported a slight decline in employment, and one other reported no change in employment levels. While some Districts noted that labor availability had increased, firms continued to report difficulty in filling open positions. Many firms hesitated to lay off employees even as demand for their goods and services slowed and planned to reduce headcount through attrition if needed. With persistently tight labor markets, wage pressures remained elevated across Districts, though five Reserve Banks reported that these pressures had eased somewhat. Some employers noted they have continued to offer bonuses and enhanced benefits to attract and retain workers. Prices Selling prices increased at a modest or moderate pace in most Districts, though many said that the pace of increases had slowed from that of recent reporting periods. Manufacturers in many Districts reported continued easing in freight costs and prices for commodities, including steel and lumber, though some said input costs remained elevated. Many retailers noted increased difficulty in passing through cost increases, suggesting greater price sensitivity on the part of consumers. In addition, some retailers offered more discounts and promotions than they had a year ago in order to move merchandise and clear out excess inventories. On balance, contacts across Districts said they expected future price growth to moderate further in the year ahead. Highlights by Federal Reserve District  Boston Business activity was roughly flat, and employment increased moderately amid seasonal hiring. Prices increased modestly as nonlabor cost pressures eased. Wage growth was above average despite easier hiring conditions. Tourism activity posted strong gains, while home sales continued to fall. The outlook was mostly stable but worsened slightly amid real estate contacts. New York  Economic activity contracted, led by an especially sharp decline in the manufacturing sector. Job growth slowed and labor shortages eased somewhat, but hiring plans remained fairly solid. Wage growth remained modest, while the pace of input and selling price increases slowed. Housing markets continued to cool, and loan demand fell. Philadelphia Business activity appeared to decline slightly during the current Beige Book period after holding steady for six months. Wage and price inflation continued to subside but still grew at a moderate pace. Employment continued to rise slightly, although hiring plans grew more cautious. Current sentiment fell, but expectations improved. Cleveland The District's economy slowed slightly as 2022 drew to a close amid high interest rates and elevated costs and selling prices. However, the share of contacts reporting higher costs or selling prices declined noticeably from the middle of 2022. Looking ahead, firms expect softer conditions to persist in the near term but still plan to add workers to meet existing and expected demand for their goods and services. Richmond The regional economy continued to grow at a slight pace, due in large part to moderate growth in consumer spending as manufacturing, transportation, real estate, and lending activity slowed. Employment rose more modestly this period compared to recent months and some firms noted hitting limits on wage increases. Price growth remained elevated in recent weeks. Atlanta Economic activity grew at a gradual pace. Labor market tightness eased, but wage pressures persisted. Most nonlabor costs moderated. Retailers reported healthy holiday sales. Auto sales rose. Leisure travel was robust. Housing demand fell. Transportation conditions weakened. Overall loan growth was steady, but deposit growth slowed. Agriculture remained mixed. Chicago Economic activity decreased slightly. Employment increased moderately; consumer and business spending were unchanged; nonbusiness contacts saw little change in activity; manufacturing decreased modestly; and construction and real estate decreased moderately. Prices and wages rose moderately, while financial conditions tightened some. Agriculture incomes were strong in 2022. St. Louis Economic conditions have remained unchanged since our previous report. Labor shortages remained a key issue, though more contacts reported a slightly easier time hiring and retaining workers. The rate of input price increases slowed, and contacts reported improvements in shipping costs and delivery times. Consumer spending and travel were both mixed during the holiday season. Minneapolis Economic activity in the region expanded slightly in recent weeks. Employment grew modestly, with labor demand softening but still healthy. Wage and price pressures remained high but lessened slightly. Holiday shopping was good overall but stymied somewhat by severe winter weather. Construction and real estate sectors continued to struggle. Inflation and high labor costs were hurting minority- and women-owned firms. Kansas City Economic activity in the Tenth District continued to decline slightly through the end of 2022. Though labor demand cooled further, contacts reported ongoing tightness and persistent wage pressures. Consumer spending declined recently, particularly for retailers and restaurants. Across goods and services, price growth slowed to a moderate, yet still-brisk, pace. Energy activity slowed modestly, facing headwinds from falling oil and gas prices. Dallas Modest economic growth continued, with an acceleration in the manufacturing sector but an abatement in the service sector. Retail sales and home sales fell further, while oil and gas activity expanded. Employment growth continued and wage and price growth stayed elevated. Outlooks were mostly pessimistic except for the energy sector, and many contacts voiced concern about weakened demand, a potential recession, and inflation. San Francisco Economic activity expanded modestly. Employment levels grew at a modest pace as labor supply improved. Wages and prices remained elevated but rose at a slower pace relative to the previous reporting period. Demand for retail goods and services was stable. Manufacturing activity was mixed, while conditions in the agriculture sector remained weak. Residential real estate activity weakened, and lending activity rose slightly. \""
      ]
     },
     "execution_count": 268,
     "metadata": {},
     "output_type": "execute_result"
    }
   ],
   "source": [
    "url = \"https://www.federalreserve.gov/monetarypolicy/beigebook202301-summary.htm\"\n",
    "response = requests.get(url)\n",
    "\n",
    "if response.status_code == 200:\n",
    "    soup = BeautifulSoup(response.text, \"html.parser\")\n",
    "    text_data = soup.get_text()\n",
    "    \n",
    "text_data = re.sub(r'\\n+', ' ', text_data)\n",
    "text_data = re.sub(r'\\r+', '', text_data)\n",
    "text_data = text_data.split('National Summary')\n",
    "text_data = text_data[2]\n",
    "text_data = text_data.split('Back to Top')\n",
    "national_summary = text_data[0]\n",
    "national_summary"
   ]
  },
  {
   "cell_type": "code",
   "execution_count": 279,
   "id": "9f918ee6",
   "metadata": {},
   "outputs": [],
   "source": [
    "url = \"https://www.federalreserve.gov/monetarypolicy/beigebook202301-summary.htm\"\n",
    "response = requests.get(url)\n",
    "\n",
    "if response.status_code == 200:\n",
    "    soup = BeautifulSoup(response.text, \"html.parser\")\n",
    "    text_data = soup.get_text()\n",
    "    \n",
    "text_data = re.sub(r'\\n+', ' ', text_data)\n",
    "text_data = re.sub(r'\\r+', '', text_data)\n",
    "text_data = text_data.split('National Summary')\n",
    "text_data = text_data[2]\n",
    "text_data = text_data.split('Back to Top')\n",
    "national_summary = text_data[0]\n",
    "\n",
    "# labor_markets\n",
    "labor_markets = national_summary.split('Labor Markets')\n",
    "labor_markets = labor_markets[1]\n",
    "\n",
    "# prices\n",
    "# prices = national_summary.split('Prices')\n",
    "# prices = prices[1]\n",
    "# prices"
   ]
  },
  {
   "cell_type": "code",
   "execution_count": null,
   "id": "f6a70b70",
   "metadata": {},
   "outputs": [],
   "source": [
    "def report_scraper(start_year, end_year):\n",
    "    for y in range(start_year)"
   ]
  }
 ],
 "metadata": {
  "kernelspec": {
   "display_name": "Python 3 (ipykernel)",
   "language": "python",
   "name": "python3"
  },
  "language_info": {
   "codemirror_mode": {
    "name": "ipython",
    "version": 3
   },
   "file_extension": ".py",
   "mimetype": "text/x-python",
   "name": "python",
   "nbconvert_exporter": "python",
   "pygments_lexer": "ipython3",
   "version": "3.8.0"
  }
 },
 "nbformat": 4,
 "nbformat_minor": 5
}
